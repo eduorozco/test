{
 "metadata": {
  "language_info": {
   "codemirror_mode": {
    "name": "ipython",
    "version": 3
   },
   "file_extension": ".py",
   "mimetype": "text/x-python",
   "name": "python",
   "nbconvert_exporter": "python",
   "pygments_lexer": "ipython3",
   "version": "3.9.5"
  },
  "orig_nbformat": 4,
  "kernelspec": {
   "name": "python3",
   "display_name": "Python 3.9.5 64-bit ('PythonSoftwareFoundation.Python.3.9_qbz5n2kfra8p0')"
  },
  "interpreter": {
   "hash": "e5b4635623ad55100ded23280307ecff107ba676e693621f9e844c9723bd961e"
  }
 },
 "nbformat": 4,
 "nbformat_minor": 2,
 "cells": [
  {
   "cell_type": "code",
   "execution_count": 1,
   "metadata": {},
   "outputs": [],
   "source": [
    "import pandas as pd \n",
    "import matplotlib.pyplot as plt \n",
    "import seaborn as sns\n",
    "#importing libraries "
   ]
  },
  {
   "cell_type": "code",
   "execution_count": 2,
   "metadata": {},
   "outputs": [],
   "source": [
    "raw_data = pd.read_csv(r\"C:\\Users\\EduardoOrozcoGarcía\\Desktop\\movies\\peliculas.csv\")\n",
    "#importing data"
   ]
  },
  {
   "cell_type": "code",
   "execution_count": 3,
   "metadata": {},
   "outputs": [
    {
     "output_type": "execute_result",
     "data": {
      "text/plain": [
       "year                int64\n",
       "imdb               object\n",
       "title              object\n",
       "test               object\n",
       "clean_test         object\n",
       "binary             object\n",
       "budget            float64\n",
       "domgross          float64\n",
       "intgross          float64\n",
       "code               object\n",
       "budget_2013$        int64\n",
       "domgross_2013$    float64\n",
       "intgross_2013$    float64\n",
       "period code       float64\n",
       "decade code       float64\n",
       "dtype: object"
      ]
     },
     "metadata": {},
     "execution_count": 3
    }
   ],
   "source": [
    "raw_data.dtypes\n",
    "#checking data types"
   ]
  },
  {
   "cell_type": "code",
   "execution_count": 4,
   "metadata": {},
   "outputs": [
    {
     "output_type": "execute_result",
     "data": {
      "text/plain": [
       "   year       imdb                   title             test clean_test binary  \\\n",
       "0  2013  tt1711425           21 &amp; Over           notalk     notalk   FAIL   \n",
       "1  2012  tt1343727                Dredd 3D      ok-disagree         ok   PASS   \n",
       "2  2013  tt2024544        12 Years a Slave  notalk-disagree     notalk   FAIL   \n",
       "3  2013  tt1272878                  2 Guns           notalk     notalk   FAIL   \n",
       "4  2013  tt0453562                      42              men        men   FAIL   \n",
       "5  2013  tt1335975                47 Ronin              men        men   FAIL   \n",
       "6  2013  tt1606378  A Good Day to Die Hard           notalk     notalk   FAIL   \n",
       "7  2013  tt2194499              About Time      ok-disagree         ok   PASS   \n",
       "8  2013  tt1814621               Admission               ok         ok   PASS   \n",
       "9  2013  tt1815862             After Earth           notalk     notalk   FAIL   \n",
       "\n",
       "        budget    domgross     intgross      code  budget_2013$  \\\n",
       "0   13000000.0  25682380.0   42195766.0  2013FAIL      13000000   \n",
       "1   45000000.0  13414714.0   40868994.0  2012PASS      45658735   \n",
       "2   20000000.0  53107035.0  158607035.0  2013FAIL      20000000   \n",
       "3   61000000.0  75612460.0  132493015.0  2013FAIL      61000000   \n",
       "4   40000000.0  95020213.0   95020213.0  2013FAIL      40000000   \n",
       "5  225000000.0  38362475.0  145803842.0  2013FAIL     225000000   \n",
       "6   92000000.0  67349198.0  304249198.0  2013FAIL      92000000   \n",
       "7   12000000.0  15323921.0   87324746.0  2013PASS      12000000   \n",
       "8   13000000.0  18007317.0   18007317.0  2013PASS      13000000   \n",
       "9  130000000.0  60522097.0  244373198.0  2013FAIL     130000000   \n",
       "\n",
       "   domgross_2013$  intgross_2013$  period code  decade code  \n",
       "0      25682380.0      42195766.0          1.0          1.0  \n",
       "1      13611086.0      41467257.0          1.0          1.0  \n",
       "2      53107035.0     158607035.0          1.0          1.0  \n",
       "3      75612460.0     132493015.0          1.0          1.0  \n",
       "4      95020213.0      95020213.0          1.0          1.0  \n",
       "5      38362475.0     145803842.0          1.0          NaN  \n",
       "6      67349198.0     304249198.0          1.0          NaN  \n",
       "7      15323921.0      87324746.0          1.0          NaN  \n",
       "8      18007317.0      18007317.0          1.0          1.0  \n",
       "9      60522097.0     244373198.0          1.0          1.0  "
      ],
      "text/html": "<div>\n<style scoped>\n    .dataframe tbody tr th:only-of-type {\n        vertical-align: middle;\n    }\n\n    .dataframe tbody tr th {\n        vertical-align: top;\n    }\n\n    .dataframe thead th {\n        text-align: right;\n    }\n</style>\n<table border=\"1\" class=\"dataframe\">\n  <thead>\n    <tr style=\"text-align: right;\">\n      <th></th>\n      <th>year</th>\n      <th>imdb</th>\n      <th>title</th>\n      <th>test</th>\n      <th>clean_test</th>\n      <th>binary</th>\n      <th>budget</th>\n      <th>domgross</th>\n      <th>intgross</th>\n      <th>code</th>\n      <th>budget_2013$</th>\n      <th>domgross_2013$</th>\n      <th>intgross_2013$</th>\n      <th>period code</th>\n      <th>decade code</th>\n    </tr>\n  </thead>\n  <tbody>\n    <tr>\n      <th>0</th>\n      <td>2013</td>\n      <td>tt1711425</td>\n      <td>21 &amp;amp; Over</td>\n      <td>notalk</td>\n      <td>notalk</td>\n      <td>FAIL</td>\n      <td>13000000.0</td>\n      <td>25682380.0</td>\n      <td>42195766.0</td>\n      <td>2013FAIL</td>\n      <td>13000000</td>\n      <td>25682380.0</td>\n      <td>42195766.0</td>\n      <td>1.0</td>\n      <td>1.0</td>\n    </tr>\n    <tr>\n      <th>1</th>\n      <td>2012</td>\n      <td>tt1343727</td>\n      <td>Dredd 3D</td>\n      <td>ok-disagree</td>\n      <td>ok</td>\n      <td>PASS</td>\n      <td>45000000.0</td>\n      <td>13414714.0</td>\n      <td>40868994.0</td>\n      <td>2012PASS</td>\n      <td>45658735</td>\n      <td>13611086.0</td>\n      <td>41467257.0</td>\n      <td>1.0</td>\n      <td>1.0</td>\n    </tr>\n    <tr>\n      <th>2</th>\n      <td>2013</td>\n      <td>tt2024544</td>\n      <td>12 Years a Slave</td>\n      <td>notalk-disagree</td>\n      <td>notalk</td>\n      <td>FAIL</td>\n      <td>20000000.0</td>\n      <td>53107035.0</td>\n      <td>158607035.0</td>\n      <td>2013FAIL</td>\n      <td>20000000</td>\n      <td>53107035.0</td>\n      <td>158607035.0</td>\n      <td>1.0</td>\n      <td>1.0</td>\n    </tr>\n    <tr>\n      <th>3</th>\n      <td>2013</td>\n      <td>tt1272878</td>\n      <td>2 Guns</td>\n      <td>notalk</td>\n      <td>notalk</td>\n      <td>FAIL</td>\n      <td>61000000.0</td>\n      <td>75612460.0</td>\n      <td>132493015.0</td>\n      <td>2013FAIL</td>\n      <td>61000000</td>\n      <td>75612460.0</td>\n      <td>132493015.0</td>\n      <td>1.0</td>\n      <td>1.0</td>\n    </tr>\n    <tr>\n      <th>4</th>\n      <td>2013</td>\n      <td>tt0453562</td>\n      <td>42</td>\n      <td>men</td>\n      <td>men</td>\n      <td>FAIL</td>\n      <td>40000000.0</td>\n      <td>95020213.0</td>\n      <td>95020213.0</td>\n      <td>2013FAIL</td>\n      <td>40000000</td>\n      <td>95020213.0</td>\n      <td>95020213.0</td>\n      <td>1.0</td>\n      <td>1.0</td>\n    </tr>\n    <tr>\n      <th>5</th>\n      <td>2013</td>\n      <td>tt1335975</td>\n      <td>47 Ronin</td>\n      <td>men</td>\n      <td>men</td>\n      <td>FAIL</td>\n      <td>225000000.0</td>\n      <td>38362475.0</td>\n      <td>145803842.0</td>\n      <td>2013FAIL</td>\n      <td>225000000</td>\n      <td>38362475.0</td>\n      <td>145803842.0</td>\n      <td>1.0</td>\n      <td>NaN</td>\n    </tr>\n    <tr>\n      <th>6</th>\n      <td>2013</td>\n      <td>tt1606378</td>\n      <td>A Good Day to Die Hard</td>\n      <td>notalk</td>\n      <td>notalk</td>\n      <td>FAIL</td>\n      <td>92000000.0</td>\n      <td>67349198.0</td>\n      <td>304249198.0</td>\n      <td>2013FAIL</td>\n      <td>92000000</td>\n      <td>67349198.0</td>\n      <td>304249198.0</td>\n      <td>1.0</td>\n      <td>NaN</td>\n    </tr>\n    <tr>\n      <th>7</th>\n      <td>2013</td>\n      <td>tt2194499</td>\n      <td>About Time</td>\n      <td>ok-disagree</td>\n      <td>ok</td>\n      <td>PASS</td>\n      <td>12000000.0</td>\n      <td>15323921.0</td>\n      <td>87324746.0</td>\n      <td>2013PASS</td>\n      <td>12000000</td>\n      <td>15323921.0</td>\n      <td>87324746.0</td>\n      <td>1.0</td>\n      <td>NaN</td>\n    </tr>\n    <tr>\n      <th>8</th>\n      <td>2013</td>\n      <td>tt1814621</td>\n      <td>Admission</td>\n      <td>ok</td>\n      <td>ok</td>\n      <td>PASS</td>\n      <td>13000000.0</td>\n      <td>18007317.0</td>\n      <td>18007317.0</td>\n      <td>2013PASS</td>\n      <td>13000000</td>\n      <td>18007317.0</td>\n      <td>18007317.0</td>\n      <td>1.0</td>\n      <td>1.0</td>\n    </tr>\n    <tr>\n      <th>9</th>\n      <td>2013</td>\n      <td>tt1815862</td>\n      <td>After Earth</td>\n      <td>notalk</td>\n      <td>notalk</td>\n      <td>FAIL</td>\n      <td>130000000.0</td>\n      <td>60522097.0</td>\n      <td>244373198.0</td>\n      <td>2013FAIL</td>\n      <td>130000000</td>\n      <td>60522097.0</td>\n      <td>244373198.0</td>\n      <td>1.0</td>\n      <td>1.0</td>\n    </tr>\n  </tbody>\n</table>\n</div>"
     },
     "metadata": {},
     "execution_count": 4
    }
   ],
   "source": [
    "raw_data.head(10)\n",
    "#getting a sense of the data"
   ]
  },
  {
   "cell_type": "code",
   "execution_count": 5,
   "metadata": {},
   "outputs": [
    {
     "output_type": "execute_result",
     "data": {
      "text/plain": [
       "Index(['year', 'imdb', 'title', 'test', 'clean_test', 'binary', 'budget',\n",
       "       'domgross', 'intgross', 'code', 'budget_2013$', 'domgross_2013$',\n",
       "       'intgross_2013$', 'period code', 'decade code'],\n",
       "      dtype='object')"
      ]
     },
     "metadata": {},
     "execution_count": 5
    }
   ],
   "source": [
    "raw_data.columns\n",
    "#getting column names"
   ]
  },
  {
   "cell_type": "code",
   "execution_count": 6,
   "metadata": {},
   "outputs": [],
   "source": [
    "raw_data_1 = raw_data.drop(['imdb','clean_test','binary','code','period code','decade code','budget_2013$','domgross_2013$','intgross_2013$','test'],axis=1)\n",
    "#droping unnecessary "
   ]
  },
  {
   "cell_type": "code",
   "execution_count": 7,
   "metadata": {},
   "outputs": [
    {
     "output_type": "execute_result",
     "data": {
      "text/plain": [
       "   year                   title       budget    domgross     intgross\n",
       "0  2013           21 &amp; Over   13000000.0  25682380.0   42195766.0\n",
       "1  2012                Dredd 3D   45000000.0  13414714.0   40868994.0\n",
       "2  2013        12 Years a Slave   20000000.0  53107035.0  158607035.0\n",
       "3  2013                  2 Guns   61000000.0  75612460.0  132493015.0\n",
       "4  2013                      42   40000000.0  95020213.0   95020213.0\n",
       "5  2013                47 Ronin  225000000.0  38362475.0  145803842.0\n",
       "6  2013  A Good Day to Die Hard   92000000.0  67349198.0  304249198.0\n",
       "7  2013              About Time   12000000.0  15323921.0   87324746.0\n",
       "8  2013               Admission   13000000.0  18007317.0   18007317.0\n",
       "9  2013             After Earth  130000000.0  60522097.0  244373198.0"
      ],
      "text/html": "<div>\n<style scoped>\n    .dataframe tbody tr th:only-of-type {\n        vertical-align: middle;\n    }\n\n    .dataframe tbody tr th {\n        vertical-align: top;\n    }\n\n    .dataframe thead th {\n        text-align: right;\n    }\n</style>\n<table border=\"1\" class=\"dataframe\">\n  <thead>\n    <tr style=\"text-align: right;\">\n      <th></th>\n      <th>year</th>\n      <th>title</th>\n      <th>budget</th>\n      <th>domgross</th>\n      <th>intgross</th>\n    </tr>\n  </thead>\n  <tbody>\n    <tr>\n      <th>0</th>\n      <td>2013</td>\n      <td>21 &amp;amp; Over</td>\n      <td>13000000.0</td>\n      <td>25682380.0</td>\n      <td>42195766.0</td>\n    </tr>\n    <tr>\n      <th>1</th>\n      <td>2012</td>\n      <td>Dredd 3D</td>\n      <td>45000000.0</td>\n      <td>13414714.0</td>\n      <td>40868994.0</td>\n    </tr>\n    <tr>\n      <th>2</th>\n      <td>2013</td>\n      <td>12 Years a Slave</td>\n      <td>20000000.0</td>\n      <td>53107035.0</td>\n      <td>158607035.0</td>\n    </tr>\n    <tr>\n      <th>3</th>\n      <td>2013</td>\n      <td>2 Guns</td>\n      <td>61000000.0</td>\n      <td>75612460.0</td>\n      <td>132493015.0</td>\n    </tr>\n    <tr>\n      <th>4</th>\n      <td>2013</td>\n      <td>42</td>\n      <td>40000000.0</td>\n      <td>95020213.0</td>\n      <td>95020213.0</td>\n    </tr>\n    <tr>\n      <th>5</th>\n      <td>2013</td>\n      <td>47 Ronin</td>\n      <td>225000000.0</td>\n      <td>38362475.0</td>\n      <td>145803842.0</td>\n    </tr>\n    <tr>\n      <th>6</th>\n      <td>2013</td>\n      <td>A Good Day to Die Hard</td>\n      <td>92000000.0</td>\n      <td>67349198.0</td>\n      <td>304249198.0</td>\n    </tr>\n    <tr>\n      <th>7</th>\n      <td>2013</td>\n      <td>About Time</td>\n      <td>12000000.0</td>\n      <td>15323921.0</td>\n      <td>87324746.0</td>\n    </tr>\n    <tr>\n      <th>8</th>\n      <td>2013</td>\n      <td>Admission</td>\n      <td>13000000.0</td>\n      <td>18007317.0</td>\n      <td>18007317.0</td>\n    </tr>\n    <tr>\n      <th>9</th>\n      <td>2013</td>\n      <td>After Earth</td>\n      <td>130000000.0</td>\n      <td>60522097.0</td>\n      <td>244373198.0</td>\n    </tr>\n  </tbody>\n</table>\n</div>"
     },
     "metadata": {},
     "execution_count": 7
    }
   ],
   "source": [
    "raw_data_1.head(10)\n",
    "#checking the results "
   ]
  },
  {
   "cell_type": "code",
   "execution_count": 8,
   "metadata": {},
   "outputs": [
    {
     "output_type": "execute_result",
     "data": {
      "text/plain": [
       "year         0\n",
       "title        0\n",
       "budget       1\n",
       "domgross    21\n",
       "intgross    11\n",
       "dtype: int64"
      ]
     },
     "metadata": {},
     "execution_count": 8
    }
   ],
   "source": [
    "raw_data_1.isna().sum()\n",
    "#checking for na's"
   ]
  },
  {
   "cell_type": "code",
   "execution_count": 9,
   "metadata": {},
   "outputs": [],
   "source": [
    "raw_data_1 = raw_data_1.dropna()\n",
    "#cleaning the table"
   ]
  },
  {
   "cell_type": "code",
   "execution_count": 10,
   "metadata": {},
   "outputs": [
    {
     "output_type": "execute_result",
     "data": {
      "text/plain": [
       "year        0\n",
       "title       0\n",
       "budget      0\n",
       "domgross    0\n",
       "intgross    0\n",
       "dtype: int64"
      ]
     },
     "metadata": {},
     "execution_count": 10
    }
   ],
   "source": [
    "raw_data_1.isna().sum()\n",
    "#sanity check after cleaning "
   ]
  },
  {
   "cell_type": "code",
   "execution_count": 11,
   "metadata": {},
   "outputs": [],
   "source": [
    "raw_data_2 = raw_data_1.groupby(by=['year']).mean()"
   ]
  },
  {
   "cell_type": "code",
   "execution_count": 12,
   "metadata": {},
   "outputs": [
    {
     "output_type": "execute_result",
     "data": {
      "text/plain": [
       "            budget      domgross      intgross\n",
       "year                                          \n",
       "1970  1.000000e+06  9.000000e+06  9.000000e+06\n",
       "1971  1.714259e+07  2.762221e+07  3.518054e+07\n",
       "1972  3.506000e+06  6.769011e+07  1.344569e+08\n",
       "1973  7.195400e+06  1.027058e+08  1.472792e+08\n",
       "1974  4.182857e+06  4.812866e+07  4.812866e+07"
      ],
      "text/html": "<div>\n<style scoped>\n    .dataframe tbody tr th:only-of-type {\n        vertical-align: middle;\n    }\n\n    .dataframe tbody tr th {\n        vertical-align: top;\n    }\n\n    .dataframe thead th {\n        text-align: right;\n    }\n</style>\n<table border=\"1\" class=\"dataframe\">\n  <thead>\n    <tr style=\"text-align: right;\">\n      <th></th>\n      <th>budget</th>\n      <th>domgross</th>\n      <th>intgross</th>\n    </tr>\n    <tr>\n      <th>year</th>\n      <th></th>\n      <th></th>\n      <th></th>\n    </tr>\n  </thead>\n  <tbody>\n    <tr>\n      <th>1970</th>\n      <td>1.000000e+06</td>\n      <td>9.000000e+06</td>\n      <td>9.000000e+06</td>\n    </tr>\n    <tr>\n      <th>1971</th>\n      <td>1.714259e+07</td>\n      <td>2.762221e+07</td>\n      <td>3.518054e+07</td>\n    </tr>\n    <tr>\n      <th>1972</th>\n      <td>3.506000e+06</td>\n      <td>6.769011e+07</td>\n      <td>1.344569e+08</td>\n    </tr>\n    <tr>\n      <th>1973</th>\n      <td>7.195400e+06</td>\n      <td>1.027058e+08</td>\n      <td>1.472792e+08</td>\n    </tr>\n    <tr>\n      <th>1974</th>\n      <td>4.182857e+06</td>\n      <td>4.812866e+07</td>\n      <td>4.812866e+07</td>\n    </tr>\n  </tbody>\n</table>\n</div>"
     },
     "metadata": {},
     "execution_count": 12
    }
   ],
   "source": [
    "raw_data_2.head()"
   ]
  },
  {
   "cell_type": "code",
   "execution_count": 13,
   "metadata": {},
   "outputs": [],
   "source": [
    "raw_data_3 = raw_data_2.reset_index()\n",
    "#resetting the index "
   ]
  },
  {
   "cell_type": "code",
   "execution_count": 14,
   "metadata": {},
   "outputs": [
    {
     "output_type": "execute_result",
     "data": {
      "text/plain": [
       "   year        budget      domgross      intgross\n",
       "0  1970  1.000000e+06  9.000000e+06  9.000000e+06\n",
       "1  1971  1.714259e+07  2.762221e+07  3.518054e+07\n",
       "2  1972  3.506000e+06  6.769011e+07  1.344569e+08\n",
       "3  1973  7.195400e+06  1.027058e+08  1.472792e+08\n",
       "4  1974  4.182857e+06  4.812866e+07  4.812866e+07\n",
       "5  1975  5.800000e+06  1.064571e+08  1.489173e+08\n",
       "6  1976  7.525000e+06  3.599646e+07  5.149992e+07\n",
       "7  1977  1.007143e+07  1.077397e+08  1.805828e+08\n",
       "8  1978  1.584375e+07  7.855394e+07  1.331525e+08\n",
       "9  1979  2.500000e+07  7.550449e+07  1.481813e+08"
      ],
      "text/html": "<div>\n<style scoped>\n    .dataframe tbody tr th:only-of-type {\n        vertical-align: middle;\n    }\n\n    .dataframe tbody tr th {\n        vertical-align: top;\n    }\n\n    .dataframe thead th {\n        text-align: right;\n    }\n</style>\n<table border=\"1\" class=\"dataframe\">\n  <thead>\n    <tr style=\"text-align: right;\">\n      <th></th>\n      <th>year</th>\n      <th>budget</th>\n      <th>domgross</th>\n      <th>intgross</th>\n    </tr>\n  </thead>\n  <tbody>\n    <tr>\n      <th>0</th>\n      <td>1970</td>\n      <td>1.000000e+06</td>\n      <td>9.000000e+06</td>\n      <td>9.000000e+06</td>\n    </tr>\n    <tr>\n      <th>1</th>\n      <td>1971</td>\n      <td>1.714259e+07</td>\n      <td>2.762221e+07</td>\n      <td>3.518054e+07</td>\n    </tr>\n    <tr>\n      <th>2</th>\n      <td>1972</td>\n      <td>3.506000e+06</td>\n      <td>6.769011e+07</td>\n      <td>1.344569e+08</td>\n    </tr>\n    <tr>\n      <th>3</th>\n      <td>1973</td>\n      <td>7.195400e+06</td>\n      <td>1.027058e+08</td>\n      <td>1.472792e+08</td>\n    </tr>\n    <tr>\n      <th>4</th>\n      <td>1974</td>\n      <td>4.182857e+06</td>\n      <td>4.812866e+07</td>\n      <td>4.812866e+07</td>\n    </tr>\n    <tr>\n      <th>5</th>\n      <td>1975</td>\n      <td>5.800000e+06</td>\n      <td>1.064571e+08</td>\n      <td>1.489173e+08</td>\n    </tr>\n    <tr>\n      <th>6</th>\n      <td>1976</td>\n      <td>7.525000e+06</td>\n      <td>3.599646e+07</td>\n      <td>5.149992e+07</td>\n    </tr>\n    <tr>\n      <th>7</th>\n      <td>1977</td>\n      <td>1.007143e+07</td>\n      <td>1.077397e+08</td>\n      <td>1.805828e+08</td>\n    </tr>\n    <tr>\n      <th>8</th>\n      <td>1978</td>\n      <td>1.584375e+07</td>\n      <td>7.855394e+07</td>\n      <td>1.331525e+08</td>\n    </tr>\n    <tr>\n      <th>9</th>\n      <td>1979</td>\n      <td>2.500000e+07</td>\n      <td>7.550449e+07</td>\n      <td>1.481813e+08</td>\n    </tr>\n  </tbody>\n</table>\n</div>"
     },
     "metadata": {},
     "execution_count": 14
    }
   ],
   "source": [
    "raw_data_3.head(10)\n",
    "#checking result"
   ]
  },
  {
   "cell_type": "code",
   "execution_count": 15,
   "metadata": {},
   "outputs": [],
   "source": [
    "index_names = raw_data_3[raw_data_3['year'] < 1975].index \n",
    "#creating a logic variable"
   ]
  },
  {
   "cell_type": "code",
   "execution_count": 16,
   "metadata": {},
   "outputs": [],
   "source": [
    "raw_data_3.drop(index_names, inplace=True)\n",
    "#droping the rows before 1975"
   ]
  },
  {
   "cell_type": "code",
   "execution_count": 17,
   "metadata": {},
   "outputs": [
    {
     "output_type": "execute_result",
     "data": {
      "text/plain": [
       "    year        budget      domgross      intgross\n",
       "5   1975  5.800000e+06  1.064571e+08  1.489173e+08\n",
       "6   1976  7.525000e+06  3.599646e+07  5.149992e+07\n",
       "7   1977  1.007143e+07  1.077397e+08  1.805828e+08\n",
       "8   1978  1.584375e+07  7.855394e+07  1.331525e+08\n",
       "9   1979  2.500000e+07  7.550449e+07  1.481813e+08\n",
       "10  1980  2.261429e+07  5.968975e+07  8.352101e+07\n",
       "11  1981  8.269444e+06  4.702134e+07  7.393785e+07\n",
       "12  1982  1.256786e+07  8.389653e+07  1.235448e+08\n",
       "13  1983  1.929040e+07  1.072347e+08  1.821337e+08\n",
       "14  1984  1.818750e+07  9.058123e+07  1.265452e+08"
      ],
      "text/html": "<div>\n<style scoped>\n    .dataframe tbody tr th:only-of-type {\n        vertical-align: middle;\n    }\n\n    .dataframe tbody tr th {\n        vertical-align: top;\n    }\n\n    .dataframe thead th {\n        text-align: right;\n    }\n</style>\n<table border=\"1\" class=\"dataframe\">\n  <thead>\n    <tr style=\"text-align: right;\">\n      <th></th>\n      <th>year</th>\n      <th>budget</th>\n      <th>domgross</th>\n      <th>intgross</th>\n    </tr>\n  </thead>\n  <tbody>\n    <tr>\n      <th>5</th>\n      <td>1975</td>\n      <td>5.800000e+06</td>\n      <td>1.064571e+08</td>\n      <td>1.489173e+08</td>\n    </tr>\n    <tr>\n      <th>6</th>\n      <td>1976</td>\n      <td>7.525000e+06</td>\n      <td>3.599646e+07</td>\n      <td>5.149992e+07</td>\n    </tr>\n    <tr>\n      <th>7</th>\n      <td>1977</td>\n      <td>1.007143e+07</td>\n      <td>1.077397e+08</td>\n      <td>1.805828e+08</td>\n    </tr>\n    <tr>\n      <th>8</th>\n      <td>1978</td>\n      <td>1.584375e+07</td>\n      <td>7.855394e+07</td>\n      <td>1.331525e+08</td>\n    </tr>\n    <tr>\n      <th>9</th>\n      <td>1979</td>\n      <td>2.500000e+07</td>\n      <td>7.550449e+07</td>\n      <td>1.481813e+08</td>\n    </tr>\n    <tr>\n      <th>10</th>\n      <td>1980</td>\n      <td>2.261429e+07</td>\n      <td>5.968975e+07</td>\n      <td>8.352101e+07</td>\n    </tr>\n    <tr>\n      <th>11</th>\n      <td>1981</td>\n      <td>8.269444e+06</td>\n      <td>4.702134e+07</td>\n      <td>7.393785e+07</td>\n    </tr>\n    <tr>\n      <th>12</th>\n      <td>1982</td>\n      <td>1.256786e+07</td>\n      <td>8.389653e+07</td>\n      <td>1.235448e+08</td>\n    </tr>\n    <tr>\n      <th>13</th>\n      <td>1983</td>\n      <td>1.929040e+07</td>\n      <td>1.072347e+08</td>\n      <td>1.821337e+08</td>\n    </tr>\n    <tr>\n      <th>14</th>\n      <td>1984</td>\n      <td>1.818750e+07</td>\n      <td>9.058123e+07</td>\n      <td>1.265452e+08</td>\n    </tr>\n  </tbody>\n</table>\n</div>"
     },
     "metadata": {},
     "execution_count": 17
    }
   ],
   "source": [
    "raw_data_3.head(10)\n",
    "#checking results"
   ]
  },
  {
   "cell_type": "code",
   "execution_count": 28,
   "metadata": {},
   "outputs": [
    {
     "output_type": "execute_result",
     "data": {
      "text/plain": [
       "year                             int64\n",
       "budget                         float64\n",
       "domgross                       float64\n",
       "intgross                       float64\n",
       "Average budget                   int32\n",
       "Average Domestic Gross           int32\n",
       "Average international Gross      int32\n",
       "dtype: object"
      ]
     },
     "metadata": {},
     "execution_count": 28
    }
   ],
   "source": [
    "raw_data_3.dtypes\n",
    "#checking Columns data types"
   ]
  },
  {
   "cell_type": "code",
   "execution_count": 20,
   "metadata": {},
   "outputs": [],
   "source": [
    "raw_data_3['Average budget'] = raw_data_3['budget'].astype(int)\n",
    "\n",
    "raw_data_3['Average Domestic Gross'] = raw_data_3['domgross'].astype(int)\n",
    "\n",
    "raw_data_3['Average international Gross'] = raw_data_3['intgross'].astype(int)\n",
    "#converting the budget, domgross, and intgorss to integers"
   ]
  },
  {
   "cell_type": "code",
   "execution_count": 21,
   "metadata": {},
   "outputs": [
    {
     "output_type": "execute_result",
     "data": {
      "text/plain": [
       "    year        budget      domgross      intgross  Average budget  \\\n",
       "5   1975  5.800000e+06  1.064571e+08  1.489173e+08         5800000   \n",
       "6   1976  7.525000e+06  3.599646e+07  5.149992e+07         7525000   \n",
       "7   1977  1.007143e+07  1.077397e+08  1.805828e+08        10071428   \n",
       "8   1978  1.584375e+07  7.855394e+07  1.331525e+08        15843750   \n",
       "9   1979  2.500000e+07  7.550449e+07  1.481813e+08        25000000   \n",
       "10  1980  2.261429e+07  5.968975e+07  8.352101e+07        22614285   \n",
       "11  1981  8.269444e+06  4.702134e+07  7.393785e+07         8269444   \n",
       "12  1982  1.256786e+07  8.389653e+07  1.235448e+08        12567857   \n",
       "13  1983  1.929040e+07  1.072347e+08  1.821337e+08        19290400   \n",
       "14  1984  1.818750e+07  9.058123e+07  1.265452e+08        18187500   \n",
       "\n",
       "    Average Domestic Gross  Average international Gross  \n",
       "5                106457077                    148917328  \n",
       "6                 35996457                     51499920  \n",
       "7                107739654                    180582795  \n",
       "8                 78553938                    133152549  \n",
       "9                 75504491                    148181260  \n",
       "10                59689753                     83521011  \n",
       "11                47021336                     73937854  \n",
       "12                83896528                    123544750  \n",
       "13               107234710                    182133694  \n",
       "14                90581234                    126545177  "
      ],
      "text/html": "<div>\n<style scoped>\n    .dataframe tbody tr th:only-of-type {\n        vertical-align: middle;\n    }\n\n    .dataframe tbody tr th {\n        vertical-align: top;\n    }\n\n    .dataframe thead th {\n        text-align: right;\n    }\n</style>\n<table border=\"1\" class=\"dataframe\">\n  <thead>\n    <tr style=\"text-align: right;\">\n      <th></th>\n      <th>year</th>\n      <th>budget</th>\n      <th>domgross</th>\n      <th>intgross</th>\n      <th>Average budget</th>\n      <th>Average Domestic Gross</th>\n      <th>Average international Gross</th>\n    </tr>\n  </thead>\n  <tbody>\n    <tr>\n      <th>5</th>\n      <td>1975</td>\n      <td>5.800000e+06</td>\n      <td>1.064571e+08</td>\n      <td>1.489173e+08</td>\n      <td>5800000</td>\n      <td>106457077</td>\n      <td>148917328</td>\n    </tr>\n    <tr>\n      <th>6</th>\n      <td>1976</td>\n      <td>7.525000e+06</td>\n      <td>3.599646e+07</td>\n      <td>5.149992e+07</td>\n      <td>7525000</td>\n      <td>35996457</td>\n      <td>51499920</td>\n    </tr>\n    <tr>\n      <th>7</th>\n      <td>1977</td>\n      <td>1.007143e+07</td>\n      <td>1.077397e+08</td>\n      <td>1.805828e+08</td>\n      <td>10071428</td>\n      <td>107739654</td>\n      <td>180582795</td>\n    </tr>\n    <tr>\n      <th>8</th>\n      <td>1978</td>\n      <td>1.584375e+07</td>\n      <td>7.855394e+07</td>\n      <td>1.331525e+08</td>\n      <td>15843750</td>\n      <td>78553938</td>\n      <td>133152549</td>\n    </tr>\n    <tr>\n      <th>9</th>\n      <td>1979</td>\n      <td>2.500000e+07</td>\n      <td>7.550449e+07</td>\n      <td>1.481813e+08</td>\n      <td>25000000</td>\n      <td>75504491</td>\n      <td>148181260</td>\n    </tr>\n    <tr>\n      <th>10</th>\n      <td>1980</td>\n      <td>2.261429e+07</td>\n      <td>5.968975e+07</td>\n      <td>8.352101e+07</td>\n      <td>22614285</td>\n      <td>59689753</td>\n      <td>83521011</td>\n    </tr>\n    <tr>\n      <th>11</th>\n      <td>1981</td>\n      <td>8.269444e+06</td>\n      <td>4.702134e+07</td>\n      <td>7.393785e+07</td>\n      <td>8269444</td>\n      <td>47021336</td>\n      <td>73937854</td>\n    </tr>\n    <tr>\n      <th>12</th>\n      <td>1982</td>\n      <td>1.256786e+07</td>\n      <td>8.389653e+07</td>\n      <td>1.235448e+08</td>\n      <td>12567857</td>\n      <td>83896528</td>\n      <td>123544750</td>\n    </tr>\n    <tr>\n      <th>13</th>\n      <td>1983</td>\n      <td>1.929040e+07</td>\n      <td>1.072347e+08</td>\n      <td>1.821337e+08</td>\n      <td>19290400</td>\n      <td>107234710</td>\n      <td>182133694</td>\n    </tr>\n    <tr>\n      <th>14</th>\n      <td>1984</td>\n      <td>1.818750e+07</td>\n      <td>9.058123e+07</td>\n      <td>1.265452e+08</td>\n      <td>18187500</td>\n      <td>90581234</td>\n      <td>126545177</td>\n    </tr>\n  </tbody>\n</table>\n</div>"
     },
     "metadata": {},
     "execution_count": 21
    }
   ],
   "source": [
    "raw_data_3.head(10)\n",
    "#checking the results"
   ]
  },
  {
   "cell_type": "code",
   "execution_count": 22,
   "metadata": {},
   "outputs": [
    {
     "output_type": "display_data",
     "data": {
      "text/plain": "<Figure size 432x288 with 1 Axes>",
      "image/svg+xml": "<?xml version=\"1.0\" encoding=\"utf-8\" standalone=\"no\"?>\r\n<!DOCTYPE svg PUBLIC \"-//W3C//DTD SVG 1.1//EN\"\r\n  \"http://www.w3.org/Graphics/SVG/1.1/DTD/svg11.dtd\">\r\n<!-- Created with matplotlib (https://matplotlib.org/) -->\r\n<svg height=\"291.656094pt\" version=\"1.1\" viewBox=\"0 0 380.669645 291.656094\" width=\"380.669645pt\" xmlns=\"http://www.w3.org/2000/svg\" xmlns:xlink=\"http://www.w3.org/1999/xlink\">\r\n <metadata>\r\n  <rdf:RDF xmlns:cc=\"http://creativecommons.org/ns#\" xmlns:dc=\"http://purl.org/dc/elements/1.1/\" xmlns:rdf=\"http://www.w3.org/1999/02/22-rdf-syntax-ns#\">\r\n   <cc:Work>\r\n    <dc:type rdf:resource=\"http://purl.org/dc/dcmitype/StillImage\"/>\r\n    <dc:date>2021-06-26T07:18:26.278517</dc:date>\r\n    <dc:format>image/svg+xml</dc:format>\r\n    <dc:creator>\r\n     <cc:Agent>\r\n      <dc:title>Matplotlib v3.3.4, https://matplotlib.org/</dc:title>\r\n     </cc:Agent>\r\n    </dc:creator>\r\n   </cc:Work>\r\n  </rdf:RDF>\r\n </metadata>\r\n <defs>\r\n  <style type=\"text/css\">*{stroke-linecap:butt;stroke-linejoin:round;}</style>\r\n </defs>\r\n <g id=\"figure_1\">\r\n  <g id=\"patch_1\">\r\n   <path d=\"M 0 291.656094 \r\nL 380.669645 291.656094 \r\nL 380.669645 0 \r\nL 0 0 \r\nz\r\n\" style=\"fill:#ffffff;\"/>\r\n  </g>\r\n  <g id=\"axes_1\">\r\n   <g id=\"patch_2\">\r\n    <path d=\"M 37.932031 235.513594 \r\nL 372.732031 235.513594 \r\nL 372.732031 18.073594 \r\nL 37.932031 18.073594 \r\nz\r\n\" style=\"fill:#eaeaf2;\"/>\r\n   </g>\r\n   <g id=\"matplotlib.axis_1\">\r\n    <g id=\"xtick_1\">\r\n     <g id=\"text_1\">\r\n      <!-- 1975 -->\r\n      <g style=\"fill:#262626;\" transform=\"translate(45.068011 269.481719)rotate(-90)scale(0.11 -0.11)\">\r\n       <defs>\r\n        <path d=\"M 37.25 0 \r\nL 28.46875 0 \r\nL 28.46875 56 \r\nQ 25.296875 52.984375 20.140625 49.953125 \r\nQ 14.984375 46.921875 10.890625 45.40625 \r\nL 10.890625 53.90625 \r\nQ 18.265625 57.375 23.78125 62.296875 \r\nQ 29.296875 67.234375 31.59375 71.875 \r\nL 37.25 71.875 \r\nz\r\n\" id=\"ArialMT-49\"/>\r\n        <path d=\"M 5.46875 16.546875 \r\nL 13.921875 17.328125 \r\nQ 14.984375 11.375 18.015625 8.6875 \r\nQ 21.046875 6 25.78125 6 \r\nQ 29.828125 6 32.875 7.859375 \r\nQ 35.9375 9.71875 37.890625 12.8125 \r\nQ 39.84375 15.921875 41.15625 21.1875 \r\nQ 42.484375 26.46875 42.484375 31.9375 \r\nQ 42.484375 32.515625 42.4375 33.6875 \r\nQ 39.796875 29.5 35.234375 26.875 \r\nQ 30.671875 24.265625 25.34375 24.265625 \r\nQ 16.453125 24.265625 10.296875 30.703125 \r\nQ 4.15625 37.15625 4.15625 47.703125 \r\nQ 4.15625 58.59375 10.578125 65.234375 \r\nQ 17 71.875 26.65625 71.875 \r\nQ 33.640625 71.875 39.421875 68.109375 \r\nQ 45.21875 64.359375 48.21875 57.390625 \r\nQ 51.21875 50.4375 51.21875 37.25 \r\nQ 51.21875 23.53125 48.234375 15.40625 \r\nQ 45.265625 7.28125 39.375 3.03125 \r\nQ 33.5 -1.21875 25.59375 -1.21875 \r\nQ 17.1875 -1.21875 11.859375 3.4375 \r\nQ 6.546875 8.109375 5.46875 16.546875 \r\nz\r\nM 41.453125 48.140625 \r\nQ 41.453125 55.71875 37.421875 60.15625 \r\nQ 33.40625 64.59375 27.734375 64.59375 \r\nQ 21.875 64.59375 17.53125 59.8125 \r\nQ 13.1875 55.03125 13.1875 47.40625 \r\nQ 13.1875 40.578125 17.3125 36.296875 \r\nQ 21.4375 32.03125 27.484375 32.03125 \r\nQ 33.59375 32.03125 37.515625 36.296875 \r\nQ 41.453125 40.578125 41.453125 48.140625 \r\nz\r\n\" id=\"ArialMT-57\"/>\r\n        <path d=\"M 4.734375 62.203125 \r\nL 4.734375 70.65625 \r\nL 51.078125 70.65625 \r\nL 51.078125 63.8125 \r\nQ 44.234375 56.546875 37.515625 44.484375 \r\nQ 30.8125 32.421875 27.15625 19.671875 \r\nQ 24.515625 10.6875 23.78125 0 \r\nL 14.75 0 \r\nQ 14.890625 8.453125 18.0625 20.40625 \r\nQ 21.234375 32.375 27.171875 43.484375 \r\nQ 33.109375 54.59375 39.796875 62.203125 \r\nz\r\n\" id=\"ArialMT-55\"/>\r\n        <path d=\"M 4.15625 18.75 \r\nL 13.375 19.53125 \r\nQ 14.40625 12.796875 18.140625 9.390625 \r\nQ 21.875 6 27.15625 6 \r\nQ 33.5 6 37.890625 10.78125 \r\nQ 42.28125 15.578125 42.28125 23.484375 \r\nQ 42.28125 31 38.0625 35.34375 \r\nQ 33.84375 39.703125 27 39.703125 \r\nQ 22.75 39.703125 19.328125 37.765625 \r\nQ 15.921875 35.84375 13.96875 32.765625 \r\nL 5.71875 33.84375 \r\nL 12.640625 70.609375 \r\nL 48.25 70.609375 \r\nL 48.25 62.203125 \r\nL 19.671875 62.203125 \r\nL 15.828125 42.96875 \r\nQ 22.265625 47.46875 29.34375 47.46875 \r\nQ 38.71875 47.46875 45.15625 40.96875 \r\nQ 51.609375 34.46875 51.609375 24.265625 \r\nQ 51.609375 14.546875 45.953125 7.46875 \r\nQ 39.0625 -1.21875 27.15625 -1.21875 \r\nQ 17.390625 -1.21875 11.203125 4.25 \r\nQ 5.03125 9.71875 4.15625 18.75 \r\nz\r\n\" id=\"ArialMT-53\"/>\r\n       </defs>\r\n       <use xlink:href=\"#ArialMT-49\"/>\r\n       <use x=\"55.615234\" xlink:href=\"#ArialMT-57\"/>\r\n       <use x=\"111.230469\" xlink:href=\"#ArialMT-55\"/>\r\n       <use x=\"166.845703\" xlink:href=\"#ArialMT-53\"/>\r\n      </g>\r\n     </g>\r\n    </g>\r\n    <g id=\"xtick_2\">\r\n     <g id=\"text_2\">\r\n      <!-- 1976 -->\r\n      <g style=\"fill:#262626;\" transform=\"translate(53.652626 269.481719)rotate(-90)scale(0.11 -0.11)\">\r\n       <defs>\r\n        <path d=\"M 49.75 54.046875 \r\nL 41.015625 53.375 \r\nQ 39.84375 58.546875 37.703125 60.890625 \r\nQ 34.125 64.65625 28.90625 64.65625 \r\nQ 24.703125 64.65625 21.53125 62.3125 \r\nQ 17.390625 59.28125 14.984375 53.46875 \r\nQ 12.59375 47.65625 12.5 36.921875 \r\nQ 15.671875 41.75 20.265625 44.09375 \r\nQ 24.859375 46.4375 29.890625 46.4375 \r\nQ 38.671875 46.4375 44.84375 39.96875 \r\nQ 51.03125 33.5 51.03125 23.25 \r\nQ 51.03125 16.5 48.125 10.71875 \r\nQ 45.21875 4.9375 40.140625 1.859375 \r\nQ 35.0625 -1.21875 28.609375 -1.21875 \r\nQ 17.625 -1.21875 10.6875 6.859375 \r\nQ 3.765625 14.9375 3.765625 33.5 \r\nQ 3.765625 54.25 11.421875 63.671875 \r\nQ 18.109375 71.875 29.4375 71.875 \r\nQ 37.890625 71.875 43.28125 67.140625 \r\nQ 48.6875 62.40625 49.75 54.046875 \r\nz\r\nM 13.875 23.1875 \r\nQ 13.875 18.65625 15.796875 14.5 \r\nQ 17.71875 10.359375 21.1875 8.171875 \r\nQ 24.65625 6 28.46875 6 \r\nQ 34.03125 6 38.03125 10.484375 \r\nQ 42.046875 14.984375 42.046875 22.703125 \r\nQ 42.046875 30.125 38.078125 34.390625 \r\nQ 34.125 38.671875 28.125 38.671875 \r\nQ 22.171875 38.671875 18.015625 34.390625 \r\nQ 13.875 30.125 13.875 23.1875 \r\nz\r\n\" id=\"ArialMT-54\"/>\r\n       </defs>\r\n       <use xlink:href=\"#ArialMT-49\"/>\r\n       <use x=\"55.615234\" xlink:href=\"#ArialMT-57\"/>\r\n       <use x=\"111.230469\" xlink:href=\"#ArialMT-55\"/>\r\n       <use x=\"166.845703\" xlink:href=\"#ArialMT-54\"/>\r\n      </g>\r\n     </g>\r\n    </g>\r\n    <g id=\"xtick_3\">\r\n     <g id=\"text_3\">\r\n      <!-- 1977 -->\r\n      <g style=\"fill:#262626;\" transform=\"translate(62.237242 269.481719)rotate(-90)scale(0.11 -0.11)\">\r\n       <use xlink:href=\"#ArialMT-49\"/>\r\n       <use x=\"55.615234\" xlink:href=\"#ArialMT-57\"/>\r\n       <use x=\"111.230469\" xlink:href=\"#ArialMT-55\"/>\r\n       <use x=\"166.845703\" xlink:href=\"#ArialMT-55\"/>\r\n      </g>\r\n     </g>\r\n    </g>\r\n    <g id=\"xtick_4\">\r\n     <g id=\"text_4\">\r\n      <!-- 1978 -->\r\n      <g style=\"fill:#262626;\" transform=\"translate(70.821857 269.481719)rotate(-90)scale(0.11 -0.11)\">\r\n       <defs>\r\n        <path d=\"M 17.671875 38.8125 \r\nQ 12.203125 40.828125 9.5625 44.53125 \r\nQ 6.9375 48.25 6.9375 53.421875 \r\nQ 6.9375 61.234375 12.546875 66.546875 \r\nQ 18.171875 71.875 27.484375 71.875 \r\nQ 36.859375 71.875 42.578125 66.421875 \r\nQ 48.296875 60.984375 48.296875 53.171875 \r\nQ 48.296875 48.1875 45.671875 44.5 \r\nQ 43.0625 40.828125 37.75 38.8125 \r\nQ 44.34375 36.671875 47.78125 31.875 \r\nQ 51.21875 27.09375 51.21875 20.453125 \r\nQ 51.21875 11.28125 44.71875 5.03125 \r\nQ 38.234375 -1.21875 27.640625 -1.21875 \r\nQ 17.046875 -1.21875 10.546875 5.046875 \r\nQ 4.046875 11.328125 4.046875 20.703125 \r\nQ 4.046875 27.6875 7.59375 32.390625 \r\nQ 11.140625 37.109375 17.671875 38.8125 \r\nz\r\nM 15.921875 53.71875 \r\nQ 15.921875 48.640625 19.1875 45.40625 \r\nQ 22.46875 42.1875 27.6875 42.1875 \r\nQ 32.765625 42.1875 36.015625 45.375 \r\nQ 39.265625 48.578125 39.265625 53.21875 \r\nQ 39.265625 58.0625 35.90625 61.359375 \r\nQ 32.5625 64.65625 27.59375 64.65625 \r\nQ 22.5625 64.65625 19.234375 61.421875 \r\nQ 15.921875 58.203125 15.921875 53.71875 \r\nz\r\nM 13.09375 20.65625 \r\nQ 13.09375 16.890625 14.875 13.375 \r\nQ 16.65625 9.859375 20.171875 7.921875 \r\nQ 23.6875 6 27.734375 6 \r\nQ 34.03125 6 38.125 10.046875 \r\nQ 42.234375 14.109375 42.234375 20.359375 \r\nQ 42.234375 26.703125 38.015625 30.859375 \r\nQ 33.796875 35.015625 27.4375 35.015625 \r\nQ 21.234375 35.015625 17.15625 30.90625 \r\nQ 13.09375 26.8125 13.09375 20.65625 \r\nz\r\n\" id=\"ArialMT-56\"/>\r\n       </defs>\r\n       <use xlink:href=\"#ArialMT-49\"/>\r\n       <use x=\"55.615234\" xlink:href=\"#ArialMT-57\"/>\r\n       <use x=\"111.230469\" xlink:href=\"#ArialMT-55\"/>\r\n       <use x=\"166.845703\" xlink:href=\"#ArialMT-56\"/>\r\n      </g>\r\n     </g>\r\n    </g>\r\n    <g id=\"xtick_5\">\r\n     <g id=\"text_5\">\r\n      <!-- 1979 -->\r\n      <g style=\"fill:#262626;\" transform=\"translate(79.406472 269.481719)rotate(-90)scale(0.11 -0.11)\">\r\n       <use xlink:href=\"#ArialMT-49\"/>\r\n       <use x=\"55.615234\" xlink:href=\"#ArialMT-57\"/>\r\n       <use x=\"111.230469\" xlink:href=\"#ArialMT-55\"/>\r\n       <use x=\"166.845703\" xlink:href=\"#ArialMT-57\"/>\r\n      </g>\r\n     </g>\r\n    </g>\r\n    <g id=\"xtick_6\">\r\n     <g id=\"text_6\">\r\n      <!-- 1980 -->\r\n      <g style=\"fill:#262626;\" transform=\"translate(87.991088 269.481719)rotate(-90)scale(0.11 -0.11)\">\r\n       <defs>\r\n        <path d=\"M 4.15625 35.296875 \r\nQ 4.15625 48 6.765625 55.734375 \r\nQ 9.375 63.484375 14.515625 67.671875 \r\nQ 19.671875 71.875 27.484375 71.875 \r\nQ 33.25 71.875 37.59375 69.546875 \r\nQ 41.9375 67.234375 44.765625 62.859375 \r\nQ 47.609375 58.5 49.21875 52.21875 \r\nQ 50.828125 45.953125 50.828125 35.296875 \r\nQ 50.828125 22.703125 48.234375 14.96875 \r\nQ 45.65625 7.234375 40.5 3 \r\nQ 35.359375 -1.21875 27.484375 -1.21875 \r\nQ 17.140625 -1.21875 11.234375 6.203125 \r\nQ 4.15625 15.140625 4.15625 35.296875 \r\nz\r\nM 13.1875 35.296875 \r\nQ 13.1875 17.671875 17.3125 11.828125 \r\nQ 21.4375 6 27.484375 6 \r\nQ 33.546875 6 37.671875 11.859375 \r\nQ 41.796875 17.71875 41.796875 35.296875 \r\nQ 41.796875 52.984375 37.671875 58.78125 \r\nQ 33.546875 64.59375 27.390625 64.59375 \r\nQ 21.34375 64.59375 17.71875 59.46875 \r\nQ 13.1875 52.9375 13.1875 35.296875 \r\nz\r\n\" id=\"ArialMT-48\"/>\r\n       </defs>\r\n       <use xlink:href=\"#ArialMT-49\"/>\r\n       <use x=\"55.615234\" xlink:href=\"#ArialMT-57\"/>\r\n       <use x=\"111.230469\" xlink:href=\"#ArialMT-56\"/>\r\n       <use x=\"166.845703\" xlink:href=\"#ArialMT-48\"/>\r\n      </g>\r\n     </g>\r\n    </g>\r\n    <g id=\"xtick_7\">\r\n     <g id=\"text_7\">\r\n      <!-- 1981 -->\r\n      <g style=\"fill:#262626;\" transform=\"translate(96.575703 269.481719)rotate(-90)scale(0.11 -0.11)\">\r\n       <use xlink:href=\"#ArialMT-49\"/>\r\n       <use x=\"55.615234\" xlink:href=\"#ArialMT-57\"/>\r\n       <use x=\"111.230469\" xlink:href=\"#ArialMT-56\"/>\r\n       <use x=\"166.845703\" xlink:href=\"#ArialMT-49\"/>\r\n      </g>\r\n     </g>\r\n    </g>\r\n    <g id=\"xtick_8\">\r\n     <g id=\"text_8\">\r\n      <!-- 1982 -->\r\n      <g style=\"fill:#262626;\" transform=\"translate(105.160319 269.481719)rotate(-90)scale(0.11 -0.11)\">\r\n       <defs>\r\n        <path d=\"M 50.34375 8.453125 \r\nL 50.34375 0 \r\nL 3.03125 0 \r\nQ 2.9375 3.171875 4.046875 6.109375 \r\nQ 5.859375 10.9375 9.828125 15.625 \r\nQ 13.8125 20.3125 21.34375 26.46875 \r\nQ 33.015625 36.03125 37.109375 41.625 \r\nQ 41.21875 47.21875 41.21875 52.203125 \r\nQ 41.21875 57.421875 37.46875 61 \r\nQ 33.734375 64.59375 27.734375 64.59375 \r\nQ 21.390625 64.59375 17.578125 60.78125 \r\nQ 13.765625 56.984375 13.71875 50.25 \r\nL 4.6875 51.171875 \r\nQ 5.609375 61.28125 11.65625 66.578125 \r\nQ 17.71875 71.875 27.9375 71.875 \r\nQ 38.234375 71.875 44.234375 66.15625 \r\nQ 50.25 60.453125 50.25 52 \r\nQ 50.25 47.703125 48.484375 43.546875 \r\nQ 46.734375 39.40625 42.65625 34.8125 \r\nQ 38.578125 30.21875 29.109375 22.21875 \r\nQ 21.1875 15.578125 18.9375 13.203125 \r\nQ 16.703125 10.84375 15.234375 8.453125 \r\nz\r\n\" id=\"ArialMT-50\"/>\r\n       </defs>\r\n       <use xlink:href=\"#ArialMT-49\"/>\r\n       <use x=\"55.615234\" xlink:href=\"#ArialMT-57\"/>\r\n       <use x=\"111.230469\" xlink:href=\"#ArialMT-56\"/>\r\n       <use x=\"166.845703\" xlink:href=\"#ArialMT-50\"/>\r\n      </g>\r\n     </g>\r\n    </g>\r\n    <g id=\"xtick_9\">\r\n     <g id=\"text_9\">\r\n      <!-- 1983 -->\r\n      <g style=\"fill:#262626;\" transform=\"translate(113.744934 269.481719)rotate(-90)scale(0.11 -0.11)\">\r\n       <defs>\r\n        <path d=\"M 4.203125 18.890625 \r\nL 12.984375 20.0625 \r\nQ 14.5 12.59375 18.140625 9.296875 \r\nQ 21.78125 6 27 6 \r\nQ 33.203125 6 37.46875 10.296875 \r\nQ 41.75 14.59375 41.75 20.953125 \r\nQ 41.75 27 37.796875 30.921875 \r\nQ 33.84375 34.859375 27.734375 34.859375 \r\nQ 25.25 34.859375 21.53125 33.890625 \r\nL 22.515625 41.609375 \r\nQ 23.390625 41.5 23.921875 41.5 \r\nQ 29.546875 41.5 34.03125 44.421875 \r\nQ 38.53125 47.359375 38.53125 53.46875 \r\nQ 38.53125 58.296875 35.25 61.46875 \r\nQ 31.984375 64.65625 26.8125 64.65625 \r\nQ 21.6875 64.65625 18.265625 61.421875 \r\nQ 14.84375 58.203125 13.875 51.765625 \r\nL 5.078125 53.328125 \r\nQ 6.6875 62.15625 12.390625 67.015625 \r\nQ 18.109375 71.875 26.609375 71.875 \r\nQ 32.46875 71.875 37.390625 69.359375 \r\nQ 42.328125 66.84375 44.9375 62.5 \r\nQ 47.5625 58.15625 47.5625 53.265625 \r\nQ 47.5625 48.640625 45.0625 44.828125 \r\nQ 42.578125 41.015625 37.703125 38.765625 \r\nQ 44.046875 37.3125 47.5625 32.6875 \r\nQ 51.078125 28.078125 51.078125 21.140625 \r\nQ 51.078125 11.765625 44.234375 5.25 \r\nQ 37.40625 -1.265625 26.953125 -1.265625 \r\nQ 17.53125 -1.265625 11.296875 4.34375 \r\nQ 5.078125 9.96875 4.203125 18.890625 \r\nz\r\n\" id=\"ArialMT-51\"/>\r\n       </defs>\r\n       <use xlink:href=\"#ArialMT-49\"/>\r\n       <use x=\"55.615234\" xlink:href=\"#ArialMT-57\"/>\r\n       <use x=\"111.230469\" xlink:href=\"#ArialMT-56\"/>\r\n       <use x=\"166.845703\" xlink:href=\"#ArialMT-51\"/>\r\n      </g>\r\n     </g>\r\n    </g>\r\n    <g id=\"xtick_10\">\r\n     <g id=\"text_10\">\r\n      <!-- 1984 -->\r\n      <g style=\"fill:#262626;\" transform=\"translate(122.329549 269.481719)rotate(-90)scale(0.11 -0.11)\">\r\n       <defs>\r\n        <path d=\"M 32.328125 0 \r\nL 32.328125 17.140625 \r\nL 1.265625 17.140625 \r\nL 1.265625 25.203125 \r\nL 33.9375 71.578125 \r\nL 41.109375 71.578125 \r\nL 41.109375 25.203125 \r\nL 50.78125 25.203125 \r\nL 50.78125 17.140625 \r\nL 41.109375 17.140625 \r\nL 41.109375 0 \r\nz\r\nM 32.328125 25.203125 \r\nL 32.328125 57.46875 \r\nL 9.90625 25.203125 \r\nz\r\n\" id=\"ArialMT-52\"/>\r\n       </defs>\r\n       <use xlink:href=\"#ArialMT-49\"/>\r\n       <use x=\"55.615234\" xlink:href=\"#ArialMT-57\"/>\r\n       <use x=\"111.230469\" xlink:href=\"#ArialMT-56\"/>\r\n       <use x=\"166.845703\" xlink:href=\"#ArialMT-52\"/>\r\n      </g>\r\n     </g>\r\n    </g>\r\n    <g id=\"xtick_11\">\r\n     <g id=\"text_11\">\r\n      <!-- 1985 -->\r\n      <g style=\"fill:#262626;\" transform=\"translate(130.914165 269.481719)rotate(-90)scale(0.11 -0.11)\">\r\n       <use xlink:href=\"#ArialMT-49\"/>\r\n       <use x=\"55.615234\" xlink:href=\"#ArialMT-57\"/>\r\n       <use x=\"111.230469\" xlink:href=\"#ArialMT-56\"/>\r\n       <use x=\"166.845703\" xlink:href=\"#ArialMT-53\"/>\r\n      </g>\r\n     </g>\r\n    </g>\r\n    <g id=\"xtick_12\">\r\n     <g id=\"text_12\">\r\n      <!-- 1986 -->\r\n      <g style=\"fill:#262626;\" transform=\"translate(139.49878 269.481719)rotate(-90)scale(0.11 -0.11)\">\r\n       <use xlink:href=\"#ArialMT-49\"/>\r\n       <use x=\"55.615234\" xlink:href=\"#ArialMT-57\"/>\r\n       <use x=\"111.230469\" xlink:href=\"#ArialMT-56\"/>\r\n       <use x=\"166.845703\" xlink:href=\"#ArialMT-54\"/>\r\n      </g>\r\n     </g>\r\n    </g>\r\n    <g id=\"xtick_13\">\r\n     <g id=\"text_13\">\r\n      <!-- 1987 -->\r\n      <g style=\"fill:#262626;\" transform=\"translate(148.083395 269.481719)rotate(-90)scale(0.11 -0.11)\">\r\n       <use xlink:href=\"#ArialMT-49\"/>\r\n       <use x=\"55.615234\" xlink:href=\"#ArialMT-57\"/>\r\n       <use x=\"111.230469\" xlink:href=\"#ArialMT-56\"/>\r\n       <use x=\"166.845703\" xlink:href=\"#ArialMT-55\"/>\r\n      </g>\r\n     </g>\r\n    </g>\r\n    <g id=\"xtick_14\">\r\n     <g id=\"text_14\">\r\n      <!-- 1988 -->\r\n      <g style=\"fill:#262626;\" transform=\"translate(156.668011 269.481719)rotate(-90)scale(0.11 -0.11)\">\r\n       <use xlink:href=\"#ArialMT-49\"/>\r\n       <use x=\"55.615234\" xlink:href=\"#ArialMT-57\"/>\r\n       <use x=\"111.230469\" xlink:href=\"#ArialMT-56\"/>\r\n       <use x=\"166.845703\" xlink:href=\"#ArialMT-56\"/>\r\n      </g>\r\n     </g>\r\n    </g>\r\n    <g id=\"xtick_15\">\r\n     <g id=\"text_15\">\r\n      <!-- 1989 -->\r\n      <g style=\"fill:#262626;\" transform=\"translate(165.252626 269.481719)rotate(-90)scale(0.11 -0.11)\">\r\n       <use xlink:href=\"#ArialMT-49\"/>\r\n       <use x=\"55.615234\" xlink:href=\"#ArialMT-57\"/>\r\n       <use x=\"111.230469\" xlink:href=\"#ArialMT-56\"/>\r\n       <use x=\"166.845703\" xlink:href=\"#ArialMT-57\"/>\r\n      </g>\r\n     </g>\r\n    </g>\r\n    <g id=\"xtick_16\">\r\n     <g id=\"text_16\">\r\n      <!-- 1990 -->\r\n      <g style=\"fill:#262626;\" transform=\"translate(173.837242 269.481719)rotate(-90)scale(0.11 -0.11)\">\r\n       <use xlink:href=\"#ArialMT-49\"/>\r\n       <use x=\"55.615234\" xlink:href=\"#ArialMT-57\"/>\r\n       <use x=\"111.230469\" xlink:href=\"#ArialMT-57\"/>\r\n       <use x=\"166.845703\" xlink:href=\"#ArialMT-48\"/>\r\n      </g>\r\n     </g>\r\n    </g>\r\n    <g id=\"xtick_17\">\r\n     <g id=\"text_17\">\r\n      <!-- 1991 -->\r\n      <g style=\"fill:#262626;\" transform=\"translate(182.421857 269.481719)rotate(-90)scale(0.11 -0.11)\">\r\n       <use xlink:href=\"#ArialMT-49\"/>\r\n       <use x=\"55.615234\" xlink:href=\"#ArialMT-57\"/>\r\n       <use x=\"111.230469\" xlink:href=\"#ArialMT-57\"/>\r\n       <use x=\"166.845703\" xlink:href=\"#ArialMT-49\"/>\r\n      </g>\r\n     </g>\r\n    </g>\r\n    <g id=\"xtick_18\">\r\n     <g id=\"text_18\">\r\n      <!-- 1992 -->\r\n      <g style=\"fill:#262626;\" transform=\"translate(191.006472 269.481719)rotate(-90)scale(0.11 -0.11)\">\r\n       <use xlink:href=\"#ArialMT-49\"/>\r\n       <use x=\"55.615234\" xlink:href=\"#ArialMT-57\"/>\r\n       <use x=\"111.230469\" xlink:href=\"#ArialMT-57\"/>\r\n       <use x=\"166.845703\" xlink:href=\"#ArialMT-50\"/>\r\n      </g>\r\n     </g>\r\n    </g>\r\n    <g id=\"xtick_19\">\r\n     <g id=\"text_19\">\r\n      <!-- 1993 -->\r\n      <g style=\"fill:#262626;\" transform=\"translate(199.591088 269.481719)rotate(-90)scale(0.11 -0.11)\">\r\n       <use xlink:href=\"#ArialMT-49\"/>\r\n       <use x=\"55.615234\" xlink:href=\"#ArialMT-57\"/>\r\n       <use x=\"111.230469\" xlink:href=\"#ArialMT-57\"/>\r\n       <use x=\"166.845703\" xlink:href=\"#ArialMT-51\"/>\r\n      </g>\r\n     </g>\r\n    </g>\r\n    <g id=\"xtick_20\">\r\n     <g id=\"text_20\">\r\n      <!-- 1994 -->\r\n      <g style=\"fill:#262626;\" transform=\"translate(208.175703 269.481719)rotate(-90)scale(0.11 -0.11)\">\r\n       <use xlink:href=\"#ArialMT-49\"/>\r\n       <use x=\"55.615234\" xlink:href=\"#ArialMT-57\"/>\r\n       <use x=\"111.230469\" xlink:href=\"#ArialMT-57\"/>\r\n       <use x=\"166.845703\" xlink:href=\"#ArialMT-52\"/>\r\n      </g>\r\n     </g>\r\n    </g>\r\n    <g id=\"xtick_21\">\r\n     <g id=\"text_21\">\r\n      <!-- 1995 -->\r\n      <g style=\"fill:#262626;\" transform=\"translate(216.760319 269.481719)rotate(-90)scale(0.11 -0.11)\">\r\n       <use xlink:href=\"#ArialMT-49\"/>\r\n       <use x=\"55.615234\" xlink:href=\"#ArialMT-57\"/>\r\n       <use x=\"111.230469\" xlink:href=\"#ArialMT-57\"/>\r\n       <use x=\"166.845703\" xlink:href=\"#ArialMT-53\"/>\r\n      </g>\r\n     </g>\r\n    </g>\r\n    <g id=\"xtick_22\">\r\n     <g id=\"text_22\">\r\n      <!-- 1996 -->\r\n      <g style=\"fill:#262626;\" transform=\"translate(225.344934 269.481719)rotate(-90)scale(0.11 -0.11)\">\r\n       <use xlink:href=\"#ArialMT-49\"/>\r\n       <use x=\"55.615234\" xlink:href=\"#ArialMT-57\"/>\r\n       <use x=\"111.230469\" xlink:href=\"#ArialMT-57\"/>\r\n       <use x=\"166.845703\" xlink:href=\"#ArialMT-54\"/>\r\n      </g>\r\n     </g>\r\n    </g>\r\n    <g id=\"xtick_23\">\r\n     <g id=\"text_23\">\r\n      <!-- 1997 -->\r\n      <g style=\"fill:#262626;\" transform=\"translate(233.929549 269.481719)rotate(-90)scale(0.11 -0.11)\">\r\n       <use xlink:href=\"#ArialMT-49\"/>\r\n       <use x=\"55.615234\" xlink:href=\"#ArialMT-57\"/>\r\n       <use x=\"111.230469\" xlink:href=\"#ArialMT-57\"/>\r\n       <use x=\"166.845703\" xlink:href=\"#ArialMT-55\"/>\r\n      </g>\r\n     </g>\r\n    </g>\r\n    <g id=\"xtick_24\">\r\n     <g id=\"text_24\">\r\n      <!-- 1998 -->\r\n      <g style=\"fill:#262626;\" transform=\"translate(242.514165 269.481719)rotate(-90)scale(0.11 -0.11)\">\r\n       <use xlink:href=\"#ArialMT-49\"/>\r\n       <use x=\"55.615234\" xlink:href=\"#ArialMT-57\"/>\r\n       <use x=\"111.230469\" xlink:href=\"#ArialMT-57\"/>\r\n       <use x=\"166.845703\" xlink:href=\"#ArialMT-56\"/>\r\n      </g>\r\n     </g>\r\n    </g>\r\n    <g id=\"xtick_25\">\r\n     <g id=\"text_25\">\r\n      <!-- 1999 -->\r\n      <g style=\"fill:#262626;\" transform=\"translate(251.09878 269.481719)rotate(-90)scale(0.11 -0.11)\">\r\n       <use xlink:href=\"#ArialMT-49\"/>\r\n       <use x=\"55.615234\" xlink:href=\"#ArialMT-57\"/>\r\n       <use x=\"111.230469\" xlink:href=\"#ArialMT-57\"/>\r\n       <use x=\"166.845703\" xlink:href=\"#ArialMT-57\"/>\r\n      </g>\r\n     </g>\r\n    </g>\r\n    <g id=\"xtick_26\">\r\n     <g id=\"text_26\">\r\n      <!-- 2000 -->\r\n      <g style=\"fill:#262626;\" transform=\"translate(259.683395 269.481719)rotate(-90)scale(0.11 -0.11)\">\r\n       <use xlink:href=\"#ArialMT-50\"/>\r\n       <use x=\"55.615234\" xlink:href=\"#ArialMT-48\"/>\r\n       <use x=\"111.230469\" xlink:href=\"#ArialMT-48\"/>\r\n       <use x=\"166.845703\" xlink:href=\"#ArialMT-48\"/>\r\n      </g>\r\n     </g>\r\n    </g>\r\n    <g id=\"xtick_27\">\r\n     <g id=\"text_27\">\r\n      <!-- 2001 -->\r\n      <g style=\"fill:#262626;\" transform=\"translate(268.268011 269.481719)rotate(-90)scale(0.11 -0.11)\">\r\n       <use xlink:href=\"#ArialMT-50\"/>\r\n       <use x=\"55.615234\" xlink:href=\"#ArialMT-48\"/>\r\n       <use x=\"111.230469\" xlink:href=\"#ArialMT-48\"/>\r\n       <use x=\"166.845703\" xlink:href=\"#ArialMT-49\"/>\r\n      </g>\r\n     </g>\r\n    </g>\r\n    <g id=\"xtick_28\">\r\n     <g id=\"text_28\">\r\n      <!-- 2002 -->\r\n      <g style=\"fill:#262626;\" transform=\"translate(276.852626 269.481719)rotate(-90)scale(0.11 -0.11)\">\r\n       <use xlink:href=\"#ArialMT-50\"/>\r\n       <use x=\"55.615234\" xlink:href=\"#ArialMT-48\"/>\r\n       <use x=\"111.230469\" xlink:href=\"#ArialMT-48\"/>\r\n       <use x=\"166.845703\" xlink:href=\"#ArialMT-50\"/>\r\n      </g>\r\n     </g>\r\n    </g>\r\n    <g id=\"xtick_29\">\r\n     <g id=\"text_29\">\r\n      <!-- 2003 -->\r\n      <g style=\"fill:#262626;\" transform=\"translate(285.437242 269.481719)rotate(-90)scale(0.11 -0.11)\">\r\n       <use xlink:href=\"#ArialMT-50\"/>\r\n       <use x=\"55.615234\" xlink:href=\"#ArialMT-48\"/>\r\n       <use x=\"111.230469\" xlink:href=\"#ArialMT-48\"/>\r\n       <use x=\"166.845703\" xlink:href=\"#ArialMT-51\"/>\r\n      </g>\r\n     </g>\r\n    </g>\r\n    <g id=\"xtick_30\">\r\n     <g id=\"text_30\">\r\n      <!-- 2004 -->\r\n      <g style=\"fill:#262626;\" transform=\"translate(294.021857 269.481719)rotate(-90)scale(0.11 -0.11)\">\r\n       <use xlink:href=\"#ArialMT-50\"/>\r\n       <use x=\"55.615234\" xlink:href=\"#ArialMT-48\"/>\r\n       <use x=\"111.230469\" xlink:href=\"#ArialMT-48\"/>\r\n       <use x=\"166.845703\" xlink:href=\"#ArialMT-52\"/>\r\n      </g>\r\n     </g>\r\n    </g>\r\n    <g id=\"xtick_31\">\r\n     <g id=\"text_31\">\r\n      <!-- 2005 -->\r\n      <g style=\"fill:#262626;\" transform=\"translate(302.606472 269.481719)rotate(-90)scale(0.11 -0.11)\">\r\n       <use xlink:href=\"#ArialMT-50\"/>\r\n       <use x=\"55.615234\" xlink:href=\"#ArialMT-48\"/>\r\n       <use x=\"111.230469\" xlink:href=\"#ArialMT-48\"/>\r\n       <use x=\"166.845703\" xlink:href=\"#ArialMT-53\"/>\r\n      </g>\r\n     </g>\r\n    </g>\r\n    <g id=\"xtick_32\">\r\n     <g id=\"text_32\">\r\n      <!-- 2006 -->\r\n      <g style=\"fill:#262626;\" transform=\"translate(311.191088 269.481719)rotate(-90)scale(0.11 -0.11)\">\r\n       <use xlink:href=\"#ArialMT-50\"/>\r\n       <use x=\"55.615234\" xlink:href=\"#ArialMT-48\"/>\r\n       <use x=\"111.230469\" xlink:href=\"#ArialMT-48\"/>\r\n       <use x=\"166.845703\" xlink:href=\"#ArialMT-54\"/>\r\n      </g>\r\n     </g>\r\n    </g>\r\n    <g id=\"xtick_33\">\r\n     <g id=\"text_33\">\r\n      <!-- 2007 -->\r\n      <g style=\"fill:#262626;\" transform=\"translate(319.775703 269.481719)rotate(-90)scale(0.11 -0.11)\">\r\n       <use xlink:href=\"#ArialMT-50\"/>\r\n       <use x=\"55.615234\" xlink:href=\"#ArialMT-48\"/>\r\n       <use x=\"111.230469\" xlink:href=\"#ArialMT-48\"/>\r\n       <use x=\"166.845703\" xlink:href=\"#ArialMT-55\"/>\r\n      </g>\r\n     </g>\r\n    </g>\r\n    <g id=\"xtick_34\">\r\n     <g id=\"text_34\">\r\n      <!-- 2008 -->\r\n      <g style=\"fill:#262626;\" transform=\"translate(328.360319 269.481719)rotate(-90)scale(0.11 -0.11)\">\r\n       <use xlink:href=\"#ArialMT-50\"/>\r\n       <use x=\"55.615234\" xlink:href=\"#ArialMT-48\"/>\r\n       <use x=\"111.230469\" xlink:href=\"#ArialMT-48\"/>\r\n       <use x=\"166.845703\" xlink:href=\"#ArialMT-56\"/>\r\n      </g>\r\n     </g>\r\n    </g>\r\n    <g id=\"xtick_35\">\r\n     <g id=\"text_35\">\r\n      <!-- 2009 -->\r\n      <g style=\"fill:#262626;\" transform=\"translate(336.944934 269.481719)rotate(-90)scale(0.11 -0.11)\">\r\n       <use xlink:href=\"#ArialMT-50\"/>\r\n       <use x=\"55.615234\" xlink:href=\"#ArialMT-48\"/>\r\n       <use x=\"111.230469\" xlink:href=\"#ArialMT-48\"/>\r\n       <use x=\"166.845703\" xlink:href=\"#ArialMT-57\"/>\r\n      </g>\r\n     </g>\r\n    </g>\r\n    <g id=\"xtick_36\">\r\n     <g id=\"text_36\">\r\n      <!-- 2010 -->\r\n      <g style=\"fill:#262626;\" transform=\"translate(345.529549 269.481719)rotate(-90)scale(0.11 -0.11)\">\r\n       <use xlink:href=\"#ArialMT-50\"/>\r\n       <use x=\"55.615234\" xlink:href=\"#ArialMT-48\"/>\r\n       <use x=\"111.230469\" xlink:href=\"#ArialMT-49\"/>\r\n       <use x=\"166.845703\" xlink:href=\"#ArialMT-48\"/>\r\n      </g>\r\n     </g>\r\n    </g>\r\n    <g id=\"xtick_37\">\r\n     <g id=\"text_37\">\r\n      <!-- 2011 -->\r\n      <g style=\"fill:#262626;\" transform=\"translate(354.114165 268.670469)rotate(-90)scale(0.11 -0.11)\">\r\n       <use xlink:href=\"#ArialMT-50\"/>\r\n       <use x=\"55.615234\" xlink:href=\"#ArialMT-48\"/>\r\n       <use x=\"111.230469\" xlink:href=\"#ArialMT-49\"/>\r\n       <use x=\"159.470703\" xlink:href=\"#ArialMT-49\"/>\r\n      </g>\r\n     </g>\r\n    </g>\r\n    <g id=\"xtick_38\">\r\n     <g id=\"text_38\">\r\n      <!-- 2012 -->\r\n      <g style=\"fill:#262626;\" transform=\"translate(362.69878 269.481719)rotate(-90)scale(0.11 -0.11)\">\r\n       <use xlink:href=\"#ArialMT-50\"/>\r\n       <use x=\"55.615234\" xlink:href=\"#ArialMT-48\"/>\r\n       <use x=\"111.230469\" xlink:href=\"#ArialMT-49\"/>\r\n       <use x=\"166.845703\" xlink:href=\"#ArialMT-50\"/>\r\n      </g>\r\n     </g>\r\n    </g>\r\n    <g id=\"xtick_39\">\r\n     <g id=\"text_39\">\r\n      <!-- 2013 -->\r\n      <g style=\"fill:#262626;\" transform=\"translate(371.283395 269.481719)rotate(-90)scale(0.11 -0.11)\">\r\n       <use xlink:href=\"#ArialMT-50\"/>\r\n       <use x=\"55.615234\" xlink:href=\"#ArialMT-48\"/>\r\n       <use x=\"111.230469\" xlink:href=\"#ArialMT-49\"/>\r\n       <use x=\"166.845703\" xlink:href=\"#ArialMT-51\"/>\r\n      </g>\r\n     </g>\r\n    </g>\r\n    <g id=\"text_40\">\r\n     <!-- year -->\r\n     <g style=\"fill:#262626;\" transform=\"translate(193.661094 281.930469)scale(0.12 -0.12)\">\r\n      <defs>\r\n       <path d=\"M 6.203125 -19.96875 \r\nL 5.21875 -11.71875 \r\nQ 8.109375 -12.5 10.25 -12.5 \r\nQ 13.1875 -12.5 14.9375 -11.515625 \r\nQ 16.703125 -10.546875 17.828125 -8.796875 \r\nQ 18.65625 -7.46875 20.515625 -2.25 \r\nQ 20.75 -1.515625 21.296875 -0.09375 \r\nL 1.609375 51.859375 \r\nL 11.078125 51.859375 \r\nL 21.875 21.828125 \r\nQ 23.96875 16.109375 25.640625 9.8125 \r\nQ 27.15625 15.875 29.25 21.625 \r\nL 40.328125 51.859375 \r\nL 49.125 51.859375 \r\nL 29.390625 -0.875 \r\nQ 26.21875 -9.421875 24.46875 -12.640625 \r\nQ 22.125 -17 19.09375 -19.015625 \r\nQ 16.0625 -21.046875 11.859375 -21.046875 \r\nQ 9.328125 -21.046875 6.203125 -19.96875 \r\nz\r\n\" id=\"ArialMT-121\"/>\r\n       <path d=\"M 42.09375 16.703125 \r\nL 51.171875 15.578125 \r\nQ 49.03125 7.625 43.21875 3.21875 \r\nQ 37.40625 -1.171875 28.375 -1.171875 \r\nQ 17 -1.171875 10.328125 5.828125 \r\nQ 3.65625 12.84375 3.65625 25.484375 \r\nQ 3.65625 38.578125 10.390625 45.796875 \r\nQ 17.140625 53.03125 27.875 53.03125 \r\nQ 38.28125 53.03125 44.875 45.953125 \r\nQ 51.46875 38.875 51.46875 26.03125 \r\nQ 51.46875 25.25 51.421875 23.6875 \r\nL 12.75 23.6875 \r\nQ 13.234375 15.140625 17.578125 10.59375 \r\nQ 21.921875 6.0625 28.421875 6.0625 \r\nQ 33.25 6.0625 36.671875 8.59375 \r\nQ 40.09375 11.140625 42.09375 16.703125 \r\nz\r\nM 13.234375 30.90625 \r\nL 42.1875 30.90625 \r\nQ 41.609375 37.453125 38.875 40.71875 \r\nQ 34.671875 45.796875 27.984375 45.796875 \r\nQ 21.921875 45.796875 17.796875 41.75 \r\nQ 13.671875 37.703125 13.234375 30.90625 \r\nz\r\n\" id=\"ArialMT-101\"/>\r\n       <path d=\"M 40.4375 6.390625 \r\nQ 35.546875 2.25 31.03125 0.53125 \r\nQ 26.515625 -1.171875 21.34375 -1.171875 \r\nQ 12.796875 -1.171875 8.203125 3 \r\nQ 3.609375 7.171875 3.609375 13.671875 \r\nQ 3.609375 17.484375 5.34375 20.625 \r\nQ 7.078125 23.78125 9.890625 25.6875 \r\nQ 12.703125 27.59375 16.21875 28.5625 \r\nQ 18.796875 29.25 24.03125 29.890625 \r\nQ 34.671875 31.15625 39.703125 32.90625 \r\nQ 39.75 34.71875 39.75 35.203125 \r\nQ 39.75 40.578125 37.25 42.78125 \r\nQ 33.890625 45.75 27.25 45.75 \r\nQ 21.046875 45.75 18.09375 43.578125 \r\nQ 15.140625 41.40625 13.71875 35.890625 \r\nL 5.125 37.0625 \r\nQ 6.296875 42.578125 8.984375 45.96875 \r\nQ 11.671875 49.359375 16.75 51.1875 \r\nQ 21.828125 53.03125 28.515625 53.03125 \r\nQ 35.15625 53.03125 39.296875 51.46875 \r\nQ 43.453125 49.90625 45.40625 47.53125 \r\nQ 47.359375 45.171875 48.140625 41.546875 \r\nQ 48.578125 39.3125 48.578125 33.453125 \r\nL 48.578125 21.734375 \r\nQ 48.578125 9.46875 49.140625 6.21875 \r\nQ 49.703125 2.984375 51.375 0 \r\nL 42.1875 0 \r\nQ 40.828125 2.734375 40.4375 6.390625 \r\nz\r\nM 39.703125 26.03125 \r\nQ 34.90625 24.078125 25.34375 22.703125 \r\nQ 19.921875 21.921875 17.671875 20.9375 \r\nQ 15.4375 19.96875 14.203125 18.09375 \r\nQ 12.984375 16.21875 12.984375 13.921875 \r\nQ 12.984375 10.40625 15.640625 8.0625 \r\nQ 18.3125 5.71875 23.4375 5.71875 \r\nQ 28.515625 5.71875 32.46875 7.9375 \r\nQ 36.421875 10.15625 38.28125 14.015625 \r\nQ 39.703125 17 39.703125 22.796875 \r\nz\r\n\" id=\"ArialMT-97\"/>\r\n       <path d=\"M 6.5 0 \r\nL 6.5 51.859375 \r\nL 14.40625 51.859375 \r\nL 14.40625 44 \r\nQ 17.4375 49.515625 20 51.265625 \r\nQ 22.5625 53.03125 25.640625 53.03125 \r\nQ 30.078125 53.03125 34.671875 50.203125 \r\nL 31.640625 42.046875 \r\nQ 28.421875 43.953125 25.203125 43.953125 \r\nQ 22.3125 43.953125 20.015625 42.21875 \r\nQ 17.71875 40.484375 16.75 37.40625 \r\nQ 15.28125 32.71875 15.28125 27.15625 \r\nL 15.28125 0 \r\nz\r\n\" id=\"ArialMT-114\"/>\r\n      </defs>\r\n      <use xlink:href=\"#ArialMT-121\"/>\r\n      <use x=\"50\" xlink:href=\"#ArialMT-101\"/>\r\n      <use x=\"105.615234\" xlink:href=\"#ArialMT-97\"/>\r\n      <use x=\"161.230469\" xlink:href=\"#ArialMT-114\"/>\r\n     </g>\r\n    </g>\r\n   </g>\r\n   <g id=\"matplotlib.axis_2\">\r\n    <g id=\"ytick_1\">\r\n     <g id=\"text_41\">\r\n      <!-- 0 -->\r\n      <g style=\"fill:#262626;\" transform=\"translate(22.315 239.450391)scale(0.11 -0.11)\">\r\n       <use xlink:href=\"#ArialMT-48\"/>\r\n      </g>\r\n     </g>\r\n    </g>\r\n    <g id=\"ytick_2\">\r\n     <g id=\"text_42\">\r\n      <!-- 1 -->\r\n      <g style=\"fill:#262626;\" transform=\"translate(22.315 211.641609)scale(0.11 -0.11)\">\r\n       <use xlink:href=\"#ArialMT-49\"/>\r\n      </g>\r\n     </g>\r\n    </g>\r\n    <g id=\"ytick_3\">\r\n     <g id=\"text_43\">\r\n      <!-- 2 -->\r\n      <g style=\"fill:#262626;\" transform=\"translate(22.315 183.832828)scale(0.11 -0.11)\">\r\n       <use xlink:href=\"#ArialMT-50\"/>\r\n      </g>\r\n     </g>\r\n    </g>\r\n    <g id=\"ytick_4\">\r\n     <g id=\"text_44\">\r\n      <!-- 3 -->\r\n      <g style=\"fill:#262626;\" transform=\"translate(22.315 156.024046)scale(0.11 -0.11)\">\r\n       <use xlink:href=\"#ArialMT-51\"/>\r\n      </g>\r\n     </g>\r\n    </g>\r\n    <g id=\"ytick_5\">\r\n     <g id=\"text_45\">\r\n      <!-- 4 -->\r\n      <g style=\"fill:#262626;\" transform=\"translate(22.315 128.215264)scale(0.11 -0.11)\">\r\n       <use xlink:href=\"#ArialMT-52\"/>\r\n      </g>\r\n     </g>\r\n    </g>\r\n    <g id=\"ytick_6\">\r\n     <g id=\"text_46\">\r\n      <!-- 5 -->\r\n      <g style=\"fill:#262626;\" transform=\"translate(22.315 100.406483)scale(0.11 -0.11)\">\r\n       <use xlink:href=\"#ArialMT-53\"/>\r\n      </g>\r\n     </g>\r\n    </g>\r\n    <g id=\"ytick_7\">\r\n     <g id=\"text_47\">\r\n      <!-- 6 -->\r\n      <g style=\"fill:#262626;\" transform=\"translate(22.315 72.597701)scale(0.11 -0.11)\">\r\n       <use xlink:href=\"#ArialMT-54\"/>\r\n      </g>\r\n     </g>\r\n    </g>\r\n    <g id=\"ytick_8\">\r\n     <g id=\"text_48\">\r\n      <!-- 7 -->\r\n      <g style=\"fill:#262626;\" transform=\"translate(22.315 44.78892)scale(0.11 -0.11)\">\r\n       <use xlink:href=\"#ArialMT-55\"/>\r\n      </g>\r\n     </g>\r\n    </g>\r\n    <g id=\"text_49\">\r\n     <!-- Average budget -->\r\n     <g style=\"fill:#262626;\" transform=\"translate(15.789375 169.051406)rotate(-90)scale(0.12 -0.12)\">\r\n      <defs>\r\n       <path d=\"M -0.140625 0 \r\nL 27.34375 71.578125 \r\nL 37.546875 71.578125 \r\nL 66.84375 0 \r\nL 56.0625 0 \r\nL 47.703125 21.6875 \r\nL 17.78125 21.6875 \r\nL 9.90625 0 \r\nz\r\nM 20.515625 29.390625 \r\nL 44.78125 29.390625 \r\nL 37.3125 49.21875 \r\nQ 33.890625 58.25 32.234375 64.0625 \r\nQ 30.859375 57.171875 28.375 50.390625 \r\nz\r\n\" id=\"ArialMT-65\"/>\r\n       <path d=\"M 21 0 \r\nL 1.265625 51.859375 \r\nL 10.546875 51.859375 \r\nL 21.6875 20.796875 \r\nQ 23.484375 15.765625 25 10.359375 \r\nQ 26.171875 14.453125 28.265625 20.21875 \r\nL 39.796875 51.859375 \r\nL 48.828125 51.859375 \r\nL 29.203125 0 \r\nz\r\n\" id=\"ArialMT-118\"/>\r\n       <path d=\"M 4.984375 -4.296875 \r\nL 13.53125 -5.5625 \r\nQ 14.0625 -9.515625 16.5 -11.328125 \r\nQ 19.78125 -13.765625 25.4375 -13.765625 \r\nQ 31.546875 -13.765625 34.859375 -11.328125 \r\nQ 38.1875 -8.890625 39.359375 -4.5 \r\nQ 40.046875 -1.8125 39.984375 6.78125 \r\nQ 34.234375 0 25.640625 0 \r\nQ 14.9375 0 9.078125 7.71875 \r\nQ 3.21875 15.4375 3.21875 26.21875 \r\nQ 3.21875 33.640625 5.90625 39.90625 \r\nQ 8.59375 46.1875 13.6875 49.609375 \r\nQ 18.796875 53.03125 25.6875 53.03125 \r\nQ 34.859375 53.03125 40.828125 45.609375 \r\nL 40.828125 51.859375 \r\nL 48.921875 51.859375 \r\nL 48.921875 7.03125 \r\nQ 48.921875 -5.078125 46.453125 -10.125 \r\nQ 44 -15.1875 38.640625 -18.109375 \r\nQ 33.296875 -21.046875 25.484375 -21.046875 \r\nQ 16.21875 -21.046875 10.5 -16.875 \r\nQ 4.78125 -12.703125 4.984375 -4.296875 \r\nz\r\nM 12.25 26.859375 \r\nQ 12.25 16.65625 16.296875 11.96875 \r\nQ 20.359375 7.28125 26.46875 7.28125 \r\nQ 32.515625 7.28125 36.609375 11.9375 \r\nQ 40.71875 16.609375 40.71875 26.5625 \r\nQ 40.71875 36.078125 36.5 40.90625 \r\nQ 32.28125 45.75 26.3125 45.75 \r\nQ 20.453125 45.75 16.34375 40.984375 \r\nQ 12.25 36.234375 12.25 26.859375 \r\nz\r\n\" id=\"ArialMT-103\"/>\r\n       <path id=\"ArialMT-32\"/>\r\n       <path d=\"M 14.703125 0 \r\nL 6.546875 0 \r\nL 6.546875 71.578125 \r\nL 15.328125 71.578125 \r\nL 15.328125 46.046875 \r\nQ 20.90625 53.03125 29.546875 53.03125 \r\nQ 34.328125 53.03125 38.59375 51.09375 \r\nQ 42.875 49.171875 45.625 45.671875 \r\nQ 48.390625 42.1875 49.953125 37.25 \r\nQ 51.515625 32.328125 51.515625 26.703125 \r\nQ 51.515625 13.375 44.921875 6.09375 \r\nQ 38.328125 -1.171875 29.109375 -1.171875 \r\nQ 19.921875 -1.171875 14.703125 6.5 \r\nz\r\nM 14.59375 26.3125 \r\nQ 14.59375 17 17.140625 12.84375 \r\nQ 21.296875 6.0625 28.375 6.0625 \r\nQ 34.125 6.0625 38.328125 11.0625 \r\nQ 42.53125 16.0625 42.53125 25.984375 \r\nQ 42.53125 36.140625 38.5 40.96875 \r\nQ 34.46875 45.796875 28.765625 45.796875 \r\nQ 23 45.796875 18.796875 40.796875 \r\nQ 14.59375 35.796875 14.59375 26.3125 \r\nz\r\n\" id=\"ArialMT-98\"/>\r\n       <path d=\"M 40.578125 0 \r\nL 40.578125 7.625 \r\nQ 34.515625 -1.171875 24.125 -1.171875 \r\nQ 19.53125 -1.171875 15.546875 0.578125 \r\nQ 11.578125 2.34375 9.640625 5 \r\nQ 7.71875 7.671875 6.9375 11.53125 \r\nQ 6.390625 14.109375 6.390625 19.734375 \r\nL 6.390625 51.859375 \r\nL 15.1875 51.859375 \r\nL 15.1875 23.09375 \r\nQ 15.1875 16.21875 15.71875 13.8125 \r\nQ 16.546875 10.359375 19.234375 8.375 \r\nQ 21.921875 6.390625 25.875 6.390625 \r\nQ 29.828125 6.390625 33.296875 8.421875 \r\nQ 36.765625 10.453125 38.203125 13.9375 \r\nQ 39.65625 17.4375 39.65625 24.078125 \r\nL 39.65625 51.859375 \r\nL 48.4375 51.859375 \r\nL 48.4375 0 \r\nz\r\n\" id=\"ArialMT-117\"/>\r\n       <path d=\"M 40.234375 0 \r\nL 40.234375 6.546875 \r\nQ 35.296875 -1.171875 25.734375 -1.171875 \r\nQ 19.53125 -1.171875 14.328125 2.25 \r\nQ 9.125 5.671875 6.265625 11.796875 \r\nQ 3.421875 17.921875 3.421875 25.875 \r\nQ 3.421875 33.640625 6 39.96875 \r\nQ 8.59375 46.296875 13.765625 49.65625 \r\nQ 18.953125 53.03125 25.34375 53.03125 \r\nQ 30.03125 53.03125 33.6875 51.046875 \r\nQ 37.359375 49.078125 39.65625 45.90625 \r\nL 39.65625 71.578125 \r\nL 48.390625 71.578125 \r\nL 48.390625 0 \r\nz\r\nM 12.453125 25.875 \r\nQ 12.453125 15.921875 16.640625 10.984375 \r\nQ 20.84375 6.0625 26.5625 6.0625 \r\nQ 32.328125 6.0625 36.34375 10.765625 \r\nQ 40.375 15.484375 40.375 25.140625 \r\nQ 40.375 35.796875 36.265625 40.765625 \r\nQ 32.171875 45.75 26.171875 45.75 \r\nQ 20.3125 45.75 16.375 40.96875 \r\nQ 12.453125 36.1875 12.453125 25.875 \r\nz\r\n\" id=\"ArialMT-100\"/>\r\n       <path d=\"M 25.78125 7.859375 \r\nL 27.046875 0.09375 \r\nQ 23.34375 -0.6875 20.40625 -0.6875 \r\nQ 15.625 -0.6875 12.984375 0.828125 \r\nQ 10.359375 2.34375 9.28125 4.8125 \r\nQ 8.203125 7.28125 8.203125 15.1875 \r\nL 8.203125 45.015625 \r\nL 1.765625 45.015625 \r\nL 1.765625 51.859375 \r\nL 8.203125 51.859375 \r\nL 8.203125 64.703125 \r\nL 16.9375 69.96875 \r\nL 16.9375 51.859375 \r\nL 25.78125 51.859375 \r\nL 25.78125 45.015625 \r\nL 16.9375 45.015625 \r\nL 16.9375 14.703125 \r\nQ 16.9375 10.9375 17.40625 9.859375 \r\nQ 17.875 8.796875 18.921875 8.15625 \r\nQ 19.96875 7.515625 21.921875 7.515625 \r\nQ 23.390625 7.515625 25.78125 7.859375 \r\nz\r\n\" id=\"ArialMT-116\"/>\r\n      </defs>\r\n      <use xlink:href=\"#ArialMT-65\"/>\r\n      <use x=\"64.949219\" xlink:href=\"#ArialMT-118\"/>\r\n      <use x=\"114.949219\" xlink:href=\"#ArialMT-101\"/>\r\n      <use x=\"170.564453\" xlink:href=\"#ArialMT-114\"/>\r\n      <use x=\"203.865234\" xlink:href=\"#ArialMT-97\"/>\r\n      <use x=\"259.480469\" xlink:href=\"#ArialMT-103\"/>\r\n      <use x=\"315.095703\" xlink:href=\"#ArialMT-101\"/>\r\n      <use x=\"370.710938\" xlink:href=\"#ArialMT-32\"/>\r\n      <use x=\"398.494141\" xlink:href=\"#ArialMT-98\"/>\r\n      <use x=\"454.109375\" xlink:href=\"#ArialMT-117\"/>\r\n      <use x=\"509.724609\" xlink:href=\"#ArialMT-100\"/>\r\n      <use x=\"565.339844\" xlink:href=\"#ArialMT-103\"/>\r\n      <use x=\"620.955078\" xlink:href=\"#ArialMT-101\"/>\r\n      <use x=\"676.570312\" xlink:href=\"#ArialMT-116\"/>\r\n     </g>\r\n    </g>\r\n    <g id=\"text_50\">\r\n     <!-- 1e7 -->\r\n     <g style=\"fill:#262626;\" transform=\"translate(37.932031 15.073594)scale(0.11 -0.11)\">\r\n      <use xlink:href=\"#ArialMT-49\"/>\r\n      <use x=\"55.615234\" xlink:href=\"#ArialMT-101\"/>\r\n      <use x=\"111.230469\" xlink:href=\"#ArialMT-55\"/>\r\n     </g>\r\n    </g>\r\n   </g>\r\n   <g id=\"patch_3\">\r\n    <path clip-path=\"url(#pf6639d2c08)\" d=\"M 38.790493 235.513594 \r\nL 45.658185 235.513594 \r\nL 45.658185 219.3845 \r\nL 38.790493 219.3845 \r\nz\r\n\" style=\"fill:#ea96a3;stroke:#ffffff;stroke-linejoin:miter;\"/>\r\n   </g>\r\n   <g id=\"patch_4\">\r\n    <path clip-path=\"url(#pf6639d2c08)\" d=\"M 47.375108 235.513594 \r\nL 54.2428 235.513594 \r\nL 54.2428 214.587486 \r\nL 47.375108 214.587486 \r\nz\r\n\" style=\"fill:#ea9796;stroke:#ffffff;stroke-linejoin:miter;\"/>\r\n   </g>\r\n   <g id=\"patch_5\">\r\n    <path clip-path=\"url(#pf6639d2c08)\" d=\"M 55.959724 235.513594 \r\nL 62.827416 235.513594 \r\nL 62.827416 207.50618 \r\nL 55.959724 207.50618 \r\nz\r\n\" style=\"fill:#e79682;stroke:#ffffff;stroke-linejoin:miter;\"/>\r\n   </g>\r\n   <g id=\"patch_6\">\r\n    <path clip-path=\"url(#pf6639d2c08)\" d=\"M 64.544339 235.513594 \r\nL 71.412031 235.513594 \r\nL 71.412031 191.454055 \r\nL 64.544339 191.454055 \r\nz\r\n\" style=\"fill:#e39361;stroke:#ffffff;stroke-linejoin:miter;\"/>\r\n   </g>\r\n   <g id=\"patch_7\">\r\n    <path clip-path=\"url(#pf6639d2c08)\" d=\"M 73.128954 235.513594 \r\nL 79.996647 235.513594 \r\nL 79.996647 165.99164 \r\nL 73.128954 165.99164 \r\nz\r\n\" style=\"fill:#d6944d;stroke:#ffffff;stroke-linejoin:miter;\"/>\r\n   </g>\r\n   <g id=\"patch_8\">\r\n    <path clip-path=\"url(#pf6639d2c08)\" d=\"M 81.71357 235.513594 \r\nL 88.581262 235.513594 \r\nL 88.581262 172.626023 \r\nL 81.71357 172.626023 \r\nz\r\n\" style=\"fill:#c9984c;stroke:#ffffff;stroke-linejoin:miter;\"/>\r\n   </g>\r\n   <g id=\"patch_9\">\r\n    <path clip-path=\"url(#pf6639d2c08)\" d=\"M 90.298185 235.513594 \r\nL 97.165877 235.513594 \r\nL 97.165877 212.517278 \r\nL 90.298185 212.517278 \r\nz\r\n\" style=\"fill:#be9b4a;stroke:#ffffff;stroke-linejoin:miter;\"/>\r\n   </g>\r\n   <g id=\"patch_10\">\r\n    <path clip-path=\"url(#pf6639d2c08)\" d=\"M 98.8828 235.513594 \r\nL 105.750493 235.513594 \r\nL 105.750493 200.563915 \r\nL 98.8828 200.563915 \r\nz\r\n\" style=\"fill:#b39d48;stroke:#ffffff;stroke-linejoin:miter;\"/>\r\n   </g>\r\n   <g id=\"patch_11\">\r\n    <path clip-path=\"url(#pf6639d2c08)\" d=\"M 107.467416 235.513594 \r\nL 114.335108 235.513594 \r\nL 114.335108 181.869342 \r\nL 107.467416 181.869342 \r\nz\r\n\" style=\"fill:#a99e47;stroke:#ffffff;stroke-linejoin:miter;\"/>\r\n   </g>\r\n   <g id=\"patch_12\">\r\n    <path clip-path=\"url(#pf6639d2c08)\" d=\"M 116.052031 235.513594 \r\nL 122.919724 235.513594 \r\nL 122.919724 184.936372 \r\nL 116.052031 184.936372 \r\nz\r\n\" style=\"fill:#9fa045;stroke:#ffffff;stroke-linejoin:miter;\"/>\r\n   </g>\r\n   <g id=\"patch_13\">\r\n    <path clip-path=\"url(#pf6639d2c08)\" d=\"M 124.636647 235.513594 \r\nL 131.504339 235.513594 \r\nL 131.504339 183.754499 \r\nL 124.636647 183.754499 \r\nz\r\n\" style=\"fill:#95a346;stroke:#ffffff;stroke-linejoin:miter;\"/>\r\n   </g>\r\n   <g id=\"patch_14\">\r\n    <path clip-path=\"url(#pf6639d2c08)\" d=\"M 133.221262 235.513594 \r\nL 140.088954 235.513594 \r\nL 140.088954 191.019543 \r\nL 133.221262 191.019543 \r\nz\r\n\" style=\"fill:#8aa646;stroke:#ffffff;stroke-linejoin:miter;\"/>\r\n   </g>\r\n   <g id=\"patch_15\">\r\n    <path clip-path=\"url(#pf6639d2c08)\" d=\"M 141.805877 235.513594 \r\nL 148.67357 235.513594 \r\nL 148.67357 174.19523 \r\nL 141.805877 174.19523 \r\nz\r\n\" style=\"fill:#7aaa47;stroke:#ffffff;stroke-linejoin:miter;\"/>\r\n   </g>\r\n   <g id=\"patch_16\">\r\n    <path clip-path=\"url(#pf6639d2c08)\" d=\"M 150.390493 235.513594 \r\nL 157.258185 235.513594 \r\nL 157.258185 188.341121 \r\nL 150.390493 188.341121 \r\nz\r\n\" style=\"fill:#60ae47;stroke:#ffffff;stroke-linejoin:miter;\"/>\r\n   </g>\r\n   <g id=\"patch_17\">\r\n    <path clip-path=\"url(#pf6639d2c08)\" d=\"M 158.975108 235.513594 \r\nL 165.8428 235.513594 \r\nL 165.8428 166.865631 \r\nL 158.975108 166.865631 \r\nz\r\n\" style=\"fill:#48b061;stroke:#ffffff;stroke-linejoin:miter;\"/>\r\n   </g>\r\n   <g id=\"patch_18\">\r\n    <path clip-path=\"url(#pf6639d2c08)\" d=\"M 167.559724 235.513594 \r\nL 174.427416 235.513594 \r\nL 174.427416 150.418722 \r\nL 167.559724 150.418722 \r\nz\r\n\" style=\"fill:#49af79;stroke:#ffffff;stroke-linejoin:miter;\"/>\r\n   </g>\r\n   <g id=\"patch_19\">\r\n    <path clip-path=\"url(#pf6639d2c08)\" d=\"M 176.144339 235.513594 \r\nL 183.012031 235.513594 \r\nL 183.012031 136.252717 \r\nL 176.144339 136.252717 \r\nz\r\n\" style=\"fill:#49ae88;stroke:#ffffff;stroke-linejoin:miter;\"/>\r\n   </g>\r\n   <g id=\"patch_20\">\r\n    <path clip-path=\"url(#pf6639d2c08)\" d=\"M 184.728954 235.513594 \r\nL 191.596647 235.513594 \r\nL 191.596647 168.118038 \r\nL 184.728954 168.118038 \r\nz\r\n\" style=\"fill:#4aad92;stroke:#ffffff;stroke-linejoin:miter;\"/>\r\n   </g>\r\n   <g id=\"patch_21\">\r\n    <path clip-path=\"url(#pf6639d2c08)\" d=\"M 193.31357 235.513594 \r\nL 200.181262 235.513594 \r\nL 200.181262 157.162352 \r\nL 193.31357 157.162352 \r\nz\r\n\" style=\"fill:#4aac9a;stroke:#ffffff;stroke-linejoin:miter;\"/>\r\n   </g>\r\n   <g id=\"patch_22\">\r\n    <path clip-path=\"url(#pf6639d2c08)\" d=\"M 201.898185 235.513594 \r\nL 208.765877 235.513594 \r\nL 208.765877 141.356591 \r\nL 201.898185 141.356591 \r\nz\r\n\" style=\"fill:#4baca1;stroke:#ffffff;stroke-linejoin:miter;\"/>\r\n   </g>\r\n   <g id=\"patch_23\">\r\n    <path clip-path=\"url(#pf6639d2c08)\" d=\"M 210.4828 235.513594 \r\nL 217.350493 235.513594 \r\nL 217.350493 124.676289 \r\nL 210.4828 124.676289 \r\nz\r\n\" style=\"fill:#4baba7;stroke:#ffffff;stroke-linejoin:miter;\"/>\r\n   </g>\r\n   <g id=\"patch_24\">\r\n    <path clip-path=\"url(#pf6639d2c08)\" d=\"M 219.067416 235.513594 \r\nL 225.935108 235.513594 \r\nL 225.935108 138.384806 \r\nL 219.067416 138.384806 \r\nz\r\n\" style=\"fill:#4cabae;stroke:#ffffff;stroke-linejoin:miter;\"/>\r\n   </g>\r\n   <g id=\"patch_25\">\r\n    <path clip-path=\"url(#pf6639d2c08)\" d=\"M 227.652031 235.513594 \r\nL 234.519724 235.513594 \r\nL 234.519724 103.603186 \r\nL 227.652031 103.603186 \r\nz\r\n\" style=\"fill:#4eabb6;stroke:#ffffff;stroke-linejoin:miter;\"/>\r\n   </g>\r\n   <g id=\"patch_26\">\r\n    <path clip-path=\"url(#pf6639d2c08)\" d=\"M 236.236647 235.513594 \r\nL 243.104339 235.513594 \r\nL 243.104339 132.510406 \r\nL 236.236647 132.510406 \r\nz\r\n\" style=\"fill:#50acbf;stroke:#ffffff;stroke-linejoin:miter;\"/>\r\n   </g>\r\n   <g id=\"patch_27\">\r\n    <path clip-path=\"url(#pf6639d2c08)\" d=\"M 244.821262 235.513594 \r\nL 251.688954 235.513594 \r\nL 251.688954 118.776303 \r\nL 244.821262 118.776303 \r\nz\r\n\" style=\"fill:#52acc9;stroke:#ffffff;stroke-linejoin:miter;\"/>\r\n   </g>\r\n   <g id=\"patch_28\">\r\n    <path clip-path=\"url(#pf6639d2c08)\" d=\"M 253.405877 235.513594 \r\nL 260.27357 235.513594 \r\nL 260.27357 118.943239 \r\nL 253.405877 118.943239 \r\nz\r\n\" style=\"fill:#55acd6;stroke:#ffffff;stroke-linejoin:miter;\"/>\r\n   </g>\r\n   <g id=\"patch_29\">\r\n    <path clip-path=\"url(#pf6639d2c08)\" d=\"M 261.990493 235.513594 \r\nL 268.858185 235.513594 \r\nL 268.858185 120.339615 \r\nL 261.990493 120.339615 \r\nz\r\n\" style=\"fill:#6daee2;stroke:#ffffff;stroke-linejoin:miter;\"/>\r\n   </g>\r\n   <g id=\"patch_30\">\r\n    <path clip-path=\"url(#pf6639d2c08)\" d=\"M 270.575108 235.513594 \r\nL 277.4428 235.513594 \r\nL 277.4428 116.304906 \r\nL 270.575108 116.304906 \r\nz\r\n\" style=\"fill:#8daee7;stroke:#ffffff;stroke-linejoin:miter;\"/>\r\n   </g>\r\n   <g id=\"patch_31\">\r\n    <path clip-path=\"url(#pf6639d2c08)\" d=\"M 279.159724 235.513594 \r\nL 286.027416 235.513594 \r\nL 286.027416 81.633267 \r\nL 279.159724 81.633267 \r\nz\r\n\" style=\"fill:#a3adea;stroke:#ffffff;stroke-linejoin:miter;\"/>\r\n   </g>\r\n   <g id=\"patch_32\">\r\n    <path clip-path=\"url(#pf6639d2c08)\" d=\"M 287.744339 235.513594 \r\nL 294.612031 235.513594 \r\nL 294.612031 99.130642 \r\nL 287.744339 99.130642 \r\nz\r\n\" style=\"fill:#b3a9eb;stroke:#ffffff;stroke-linejoin:miter;\"/>\r\n   </g>\r\n   <g id=\"patch_33\">\r\n    <path clip-path=\"url(#pf6639d2c08)\" d=\"M 296.328954 235.513594 \r\nL 303.196647 235.513594 \r\nL 303.196647 108.276599 \r\nL 296.328954 108.276599 \r\nz\r\n\" style=\"fill:#bfa3ea;stroke:#ffffff;stroke-linejoin:miter;\"/>\r\n   </g>\r\n   <g id=\"patch_34\">\r\n    <path clip-path=\"url(#pf6639d2c08)\" d=\"M 304.91357 235.513594 \r\nL 311.781262 235.513594 \r\nL 311.781262 117.408436 \r\nL 304.91357 117.408436 \r\nz\r\n\" style=\"fill:#cc9de9;stroke:#ffffff;stroke-linejoin:miter;\"/>\r\n   </g>\r\n   <g id=\"patch_35\">\r\n    <path clip-path=\"url(#pf6639d2c08)\" d=\"M 313.498185 235.513594 \r\nL 320.365877 235.513594 \r\nL 320.365877 99.370228 \r\nL 313.498185 99.370228 \r\nz\r\n\" style=\"fill:#d894e8;stroke:#ffffff;stroke-linejoin:miter;\"/>\r\n   </g>\r\n   <g id=\"patch_36\">\r\n    <path clip-path=\"url(#pf6639d2c08)\" d=\"M 322.0828 235.513594 \r\nL 328.950493 235.513594 \r\nL 328.950493 94.489022 \r\nL 322.0828 94.489022 \r\nz\r\n\" style=\"fill:#e689e6;stroke:#ffffff;stroke-linejoin:miter;\"/>\r\n   </g>\r\n   <g id=\"patch_37\">\r\n    <path clip-path=\"url(#pf6639d2c08)\" d=\"M 330.667416 235.513594 \r\nL 337.535108 235.513594 \r\nL 337.535108 93.971456 \r\nL 330.667416 93.971456 \r\nz\r\n\" style=\"fill:#e78cd9;stroke:#ffffff;stroke-linejoin:miter;\"/>\r\n   </g>\r\n   <g id=\"patch_38\">\r\n    <path clip-path=\"url(#pf6639d2c08)\" d=\"M 339.252031 235.513594 \r\nL 346.119724 235.513594 \r\nL 346.119724 90.298528 \r\nL 339.252031 90.298528 \r\nz\r\n\" style=\"fill:#e88ecd;stroke:#ffffff;stroke-linejoin:miter;\"/>\r\n   </g>\r\n   <g id=\"patch_39\">\r\n    <path clip-path=\"url(#pf6639d2c08)\" d=\"M 347.836647 235.513594 \r\nL 354.704339 235.513594 \r\nL 354.704339 93.499961 \r\nL 347.836647 93.499961 \r\nz\r\n\" style=\"fill:#e891c3;stroke:#ffffff;stroke-linejoin:miter;\"/>\r\n   </g>\r\n   <g id=\"patch_40\">\r\n    <path clip-path=\"url(#pf6639d2c08)\" d=\"M 356.421262 235.513594 \r\nL 363.288954 235.513594 \r\nL 363.288954 56.263416 \r\nL 356.421262 56.263416 \r\nz\r\n\" style=\"fill:#e992b9;stroke:#ffffff;stroke-linejoin:miter;\"/>\r\n   </g>\r\n   <g id=\"patch_41\">\r\n    <path clip-path=\"url(#pf6639d2c08)\" d=\"M 365.005877 235.513594 \r\nL 371.87357 235.513594 \r\nL 371.87357 28.427879 \r\nL 365.005877 28.427879 \r\nz\r\n\" style=\"fill:#e994af;stroke:#ffffff;stroke-linejoin:miter;\"/>\r\n   </g>\r\n   <g id=\"line2d_1\">\r\n    <path clip-path=\"url(#pf6639d2c08)\" d=\"M 0 0 \r\n\" style=\"fill:none;stroke:#424242;stroke-linecap:round;stroke-width:2.7;\"/>\r\n   </g>\r\n   <g id=\"line2d_2\">\r\n    <path clip-path=\"url(#pf6639d2c08)\" d=\"M 0 0 \r\n\" style=\"fill:none;stroke:#424242;stroke-linecap:round;stroke-width:2.7;\"/>\r\n   </g>\r\n   <g id=\"line2d_3\">\r\n    <path clip-path=\"url(#pf6639d2c08)\" d=\"M 0 0 \r\n\" style=\"fill:none;stroke:#424242;stroke-linecap:round;stroke-width:2.7;\"/>\r\n   </g>\r\n   <g id=\"line2d_4\">\r\n    <path clip-path=\"url(#pf6639d2c08)\" d=\"M 0 0 \r\n\" style=\"fill:none;stroke:#424242;stroke-linecap:round;stroke-width:2.7;\"/>\r\n   </g>\r\n   <g id=\"line2d_5\">\r\n    <path clip-path=\"url(#pf6639d2c08)\" d=\"M 0 0 \r\n\" style=\"fill:none;stroke:#424242;stroke-linecap:round;stroke-width:2.7;\"/>\r\n   </g>\r\n   <g id=\"line2d_6\">\r\n    <path clip-path=\"url(#pf6639d2c08)\" d=\"M 0 0 \r\n\" style=\"fill:none;stroke:#424242;stroke-linecap:round;stroke-width:2.7;\"/>\r\n   </g>\r\n   <g id=\"line2d_7\">\r\n    <path clip-path=\"url(#pf6639d2c08)\" d=\"M 0 0 \r\n\" style=\"fill:none;stroke:#424242;stroke-linecap:round;stroke-width:2.7;\"/>\r\n   </g>\r\n   <g id=\"line2d_8\">\r\n    <path clip-path=\"url(#pf6639d2c08)\" d=\"M 0 0 \r\n\" style=\"fill:none;stroke:#424242;stroke-linecap:round;stroke-width:2.7;\"/>\r\n   </g>\r\n   <g id=\"line2d_9\">\r\n    <path clip-path=\"url(#pf6639d2c08)\" d=\"M 0 0 \r\n\" style=\"fill:none;stroke:#424242;stroke-linecap:round;stroke-width:2.7;\"/>\r\n   </g>\r\n   <g id=\"line2d_10\">\r\n    <path clip-path=\"url(#pf6639d2c08)\" d=\"M 0 0 \r\n\" style=\"fill:none;stroke:#424242;stroke-linecap:round;stroke-width:2.7;\"/>\r\n   </g>\r\n   <g id=\"line2d_11\">\r\n    <path clip-path=\"url(#pf6639d2c08)\" d=\"M 0 0 \r\n\" style=\"fill:none;stroke:#424242;stroke-linecap:round;stroke-width:2.7;\"/>\r\n   </g>\r\n   <g id=\"line2d_12\">\r\n    <path clip-path=\"url(#pf6639d2c08)\" d=\"M 0 0 \r\n\" style=\"fill:none;stroke:#424242;stroke-linecap:round;stroke-width:2.7;\"/>\r\n   </g>\r\n   <g id=\"line2d_13\">\r\n    <path clip-path=\"url(#pf6639d2c08)\" d=\"M 0 0 \r\n\" style=\"fill:none;stroke:#424242;stroke-linecap:round;stroke-width:2.7;\"/>\r\n   </g>\r\n   <g id=\"line2d_14\">\r\n    <path clip-path=\"url(#pf6639d2c08)\" d=\"M 0 0 \r\n\" style=\"fill:none;stroke:#424242;stroke-linecap:round;stroke-width:2.7;\"/>\r\n   </g>\r\n   <g id=\"line2d_15\">\r\n    <path clip-path=\"url(#pf6639d2c08)\" d=\"M 0 0 \r\n\" style=\"fill:none;stroke:#424242;stroke-linecap:round;stroke-width:2.7;\"/>\r\n   </g>\r\n   <g id=\"line2d_16\">\r\n    <path clip-path=\"url(#pf6639d2c08)\" d=\"M 0 0 \r\n\" style=\"fill:none;stroke:#424242;stroke-linecap:round;stroke-width:2.7;\"/>\r\n   </g>\r\n   <g id=\"line2d_17\">\r\n    <path clip-path=\"url(#pf6639d2c08)\" d=\"M 0 0 \r\n\" style=\"fill:none;stroke:#424242;stroke-linecap:round;stroke-width:2.7;\"/>\r\n   </g>\r\n   <g id=\"line2d_18\">\r\n    <path clip-path=\"url(#pf6639d2c08)\" d=\"M 0 0 \r\n\" style=\"fill:none;stroke:#424242;stroke-linecap:round;stroke-width:2.7;\"/>\r\n   </g>\r\n   <g id=\"line2d_19\">\r\n    <path clip-path=\"url(#pf6639d2c08)\" d=\"M 0 0 \r\n\" style=\"fill:none;stroke:#424242;stroke-linecap:round;stroke-width:2.7;\"/>\r\n   </g>\r\n   <g id=\"line2d_20\">\r\n    <path clip-path=\"url(#pf6639d2c08)\" d=\"M 0 0 \r\n\" style=\"fill:none;stroke:#424242;stroke-linecap:round;stroke-width:2.7;\"/>\r\n   </g>\r\n   <g id=\"line2d_21\">\r\n    <path clip-path=\"url(#pf6639d2c08)\" d=\"M 0 0 \r\n\" style=\"fill:none;stroke:#424242;stroke-linecap:round;stroke-width:2.7;\"/>\r\n   </g>\r\n   <g id=\"line2d_22\">\r\n    <path clip-path=\"url(#pf6639d2c08)\" d=\"M 0 0 \r\n\" style=\"fill:none;stroke:#424242;stroke-linecap:round;stroke-width:2.7;\"/>\r\n   </g>\r\n   <g id=\"line2d_23\">\r\n    <path clip-path=\"url(#pf6639d2c08)\" d=\"M 0 0 \r\n\" style=\"fill:none;stroke:#424242;stroke-linecap:round;stroke-width:2.7;\"/>\r\n   </g>\r\n   <g id=\"line2d_24\">\r\n    <path clip-path=\"url(#pf6639d2c08)\" d=\"M 0 0 \r\n\" style=\"fill:none;stroke:#424242;stroke-linecap:round;stroke-width:2.7;\"/>\r\n   </g>\r\n   <g id=\"line2d_25\">\r\n    <path clip-path=\"url(#pf6639d2c08)\" d=\"M 0 0 \r\n\" style=\"fill:none;stroke:#424242;stroke-linecap:round;stroke-width:2.7;\"/>\r\n   </g>\r\n   <g id=\"line2d_26\">\r\n    <path clip-path=\"url(#pf6639d2c08)\" d=\"M 0 0 \r\n\" style=\"fill:none;stroke:#424242;stroke-linecap:round;stroke-width:2.7;\"/>\r\n   </g>\r\n   <g id=\"line2d_27\">\r\n    <path clip-path=\"url(#pf6639d2c08)\" d=\"M 0 0 \r\n\" style=\"fill:none;stroke:#424242;stroke-linecap:round;stroke-width:2.7;\"/>\r\n   </g>\r\n   <g id=\"line2d_28\">\r\n    <path clip-path=\"url(#pf6639d2c08)\" d=\"M 0 0 \r\n\" style=\"fill:none;stroke:#424242;stroke-linecap:round;stroke-width:2.7;\"/>\r\n   </g>\r\n   <g id=\"line2d_29\">\r\n    <path clip-path=\"url(#pf6639d2c08)\" d=\"M 0 0 \r\n\" style=\"fill:none;stroke:#424242;stroke-linecap:round;stroke-width:2.7;\"/>\r\n   </g>\r\n   <g id=\"line2d_30\">\r\n    <path clip-path=\"url(#pf6639d2c08)\" d=\"M 0 0 \r\n\" style=\"fill:none;stroke:#424242;stroke-linecap:round;stroke-width:2.7;\"/>\r\n   </g>\r\n   <g id=\"line2d_31\">\r\n    <path clip-path=\"url(#pf6639d2c08)\" d=\"M 0 0 \r\n\" style=\"fill:none;stroke:#424242;stroke-linecap:round;stroke-width:2.7;\"/>\r\n   </g>\r\n   <g id=\"line2d_32\">\r\n    <path clip-path=\"url(#pf6639d2c08)\" d=\"M 0 0 \r\n\" style=\"fill:none;stroke:#424242;stroke-linecap:round;stroke-width:2.7;\"/>\r\n   </g>\r\n   <g id=\"line2d_33\">\r\n    <path clip-path=\"url(#pf6639d2c08)\" d=\"M 0 0 \r\n\" style=\"fill:none;stroke:#424242;stroke-linecap:round;stroke-width:2.7;\"/>\r\n   </g>\r\n   <g id=\"line2d_34\">\r\n    <path clip-path=\"url(#pf6639d2c08)\" d=\"M 0 0 \r\n\" style=\"fill:none;stroke:#424242;stroke-linecap:round;stroke-width:2.7;\"/>\r\n   </g>\r\n   <g id=\"line2d_35\">\r\n    <path clip-path=\"url(#pf6639d2c08)\" d=\"M 0 0 \r\n\" style=\"fill:none;stroke:#424242;stroke-linecap:round;stroke-width:2.7;\"/>\r\n   </g>\r\n   <g id=\"line2d_36\">\r\n    <path clip-path=\"url(#pf6639d2c08)\" d=\"M 0 0 \r\n\" style=\"fill:none;stroke:#424242;stroke-linecap:round;stroke-width:2.7;\"/>\r\n   </g>\r\n   <g id=\"line2d_37\">\r\n    <path clip-path=\"url(#pf6639d2c08)\" d=\"M 0 0 \r\n\" style=\"fill:none;stroke:#424242;stroke-linecap:round;stroke-width:2.7;\"/>\r\n   </g>\r\n   <g id=\"line2d_38\">\r\n    <path clip-path=\"url(#pf6639d2c08)\" d=\"M 0 0 \r\n\" style=\"fill:none;stroke:#424242;stroke-linecap:round;stroke-width:2.7;\"/>\r\n   </g>\r\n   <g id=\"line2d_39\">\r\n    <path clip-path=\"url(#pf6639d2c08)\" d=\"M 0 0 \r\n\" style=\"fill:none;stroke:#424242;stroke-linecap:round;stroke-width:2.7;\"/>\r\n   </g>\r\n   <g id=\"patch_42\">\r\n    <path d=\"M 37.932031 235.513594 \r\nL 37.932031 18.073594 \r\n\" style=\"fill:none;stroke:#ffffff;stroke-linecap:square;stroke-linejoin:miter;stroke-width:1.25;\"/>\r\n   </g>\r\n   <g id=\"patch_43\">\r\n    <path d=\"M 372.732031 235.513594 \r\nL 372.732031 18.073594 \r\n\" style=\"fill:none;stroke:#ffffff;stroke-linecap:square;stroke-linejoin:miter;stroke-width:1.25;\"/>\r\n   </g>\r\n   <g id=\"patch_44\">\r\n    <path d=\"M 37.932031 235.513594 \r\nL 372.732031 235.513594 \r\n\" style=\"fill:none;stroke:#ffffff;stroke-linecap:square;stroke-linejoin:miter;stroke-width:1.25;\"/>\r\n   </g>\r\n   <g id=\"patch_45\">\r\n    <path d=\"M 37.932031 18.073594 \r\nL 372.732031 18.073594 \r\n\" style=\"fill:none;stroke:#ffffff;stroke-linecap:square;stroke-linejoin:miter;stroke-width:1.25;\"/>\r\n   </g>\r\n  </g>\r\n </g>\r\n <defs>\r\n  <clipPath id=\"pf6639d2c08\">\r\n   <rect height=\"217.44\" width=\"334.8\" x=\"37.932031\" y=\"18.073594\"/>\r\n  </clipPath>\r\n </defs>\r\n</svg>\r\n",
      "image/png": "[encoded data removed]"
     },
     "metadata": {}
    }
   ],
   "source": [
    "sns.set_theme(style='dark')\n",
    "sns.barplot(x=raw_data_3['year'], y= raw_data_3['Average budget'])\n",
    "sns.set_context(\"notebook\", font_scale=0.5, rc={\"lines.linewidth\": 10})\n",
    "plt.xticks(rotation=90)\n",
    "plt.show()\n",
    "#creating the visualization based on the average budget and per year"
   ]
  },
  {
   "cell_type": "code",
   "execution_count": 23,
   "metadata": {},
   "outputs": [
    {
     "output_type": "execute_result",
     "data": {
      "text/plain": [
       "   year                   title       budget    domgross     intgross\n",
       "0  2013           21 &amp; Over   13000000.0  25682380.0   42195766.0\n",
       "1  2012                Dredd 3D   45000000.0  13414714.0   40868994.0\n",
       "2  2013        12 Years a Slave   20000000.0  53107035.0  158607035.0\n",
       "3  2013                  2 Guns   61000000.0  75612460.0  132493015.0\n",
       "4  2013                      42   40000000.0  95020213.0   95020213.0\n",
       "5  2013                47 Ronin  225000000.0  38362475.0  145803842.0\n",
       "6  2013  A Good Day to Die Hard   92000000.0  67349198.0  304249198.0\n",
       "7  2013              About Time   12000000.0  15323921.0   87324746.0\n",
       "8  2013               Admission   13000000.0  18007317.0   18007317.0\n",
       "9  2013             After Earth  130000000.0  60522097.0  244373198.0"
      ],
      "text/html": "<div>\n<style scoped>\n    .dataframe tbody tr th:only-of-type {\n        vertical-align: middle;\n    }\n\n    .dataframe tbody tr th {\n        vertical-align: top;\n    }\n\n    .dataframe thead th {\n        text-align: right;\n    }\n</style>\n<table border=\"1\" class=\"dataframe\">\n  <thead>\n    <tr style=\"text-align: right;\">\n      <th></th>\n      <th>year</th>\n      <th>title</th>\n      <th>budget</th>\n      <th>domgross</th>\n      <th>intgross</th>\n    </tr>\n  </thead>\n  <tbody>\n    <tr>\n      <th>0</th>\n      <td>2013</td>\n      <td>21 &amp;amp; Over</td>\n      <td>13000000.0</td>\n      <td>25682380.0</td>\n      <td>42195766.0</td>\n    </tr>\n    <tr>\n      <th>1</th>\n      <td>2012</td>\n      <td>Dredd 3D</td>\n      <td>45000000.0</td>\n      <td>13414714.0</td>\n      <td>40868994.0</td>\n    </tr>\n    <tr>\n      <th>2</th>\n      <td>2013</td>\n      <td>12 Years a Slave</td>\n      <td>20000000.0</td>\n      <td>53107035.0</td>\n      <td>158607035.0</td>\n    </tr>\n    <tr>\n      <th>3</th>\n      <td>2013</td>\n      <td>2 Guns</td>\n      <td>61000000.0</td>\n      <td>75612460.0</td>\n      <td>132493015.0</td>\n    </tr>\n    <tr>\n      <th>4</th>\n      <td>2013</td>\n      <td>42</td>\n      <td>40000000.0</td>\n      <td>95020213.0</td>\n      <td>95020213.0</td>\n    </tr>\n    <tr>\n      <th>5</th>\n      <td>2013</td>\n      <td>47 Ronin</td>\n      <td>225000000.0</td>\n      <td>38362475.0</td>\n      <td>145803842.0</td>\n    </tr>\n    <tr>\n      <th>6</th>\n      <td>2013</td>\n      <td>A Good Day to Die Hard</td>\n      <td>92000000.0</td>\n      <td>67349198.0</td>\n      <td>304249198.0</td>\n    </tr>\n    <tr>\n      <th>7</th>\n      <td>2013</td>\n      <td>About Time</td>\n      <td>12000000.0</td>\n      <td>15323921.0</td>\n      <td>87324746.0</td>\n    </tr>\n    <tr>\n      <th>8</th>\n      <td>2013</td>\n      <td>Admission</td>\n      <td>13000000.0</td>\n      <td>18007317.0</td>\n      <td>18007317.0</td>\n    </tr>\n    <tr>\n      <th>9</th>\n      <td>2013</td>\n      <td>After Earth</td>\n      <td>130000000.0</td>\n      <td>60522097.0</td>\n      <td>244373198.0</td>\n    </tr>\n  </tbody>\n</table>\n</div>"
     },
     "metadata": {},
     "execution_count": 23
    }
   ],
   "source": [
    "raw_data_1.head(10)\n",
    "#checking our original data"
   ]
  },
  {
   "cell_type": "code",
   "execution_count": 24,
   "metadata": {},
   "outputs": [],
   "source": [
    "data_by_domgross = raw_data_1.sort_values(by='domgross', ascending=False)\n",
    "#sorting our data by highest domestic gross"
   ]
  },
  {
   "cell_type": "code",
   "execution_count": 25,
   "metadata": {},
   "outputs": [],
   "source": [
    "data_by_domgross['budget'] =data_by_domgross['budget'].astype(int)\n",
    "data_by_domgross['domgross'] =data_by_domgross['domgross'].astype(int)\n",
    "data_by_domgross['intgross'] =data_by_domgross['intgross'].astype(int)\n",
    "#converting the budget, domgross, and intgorss to integers"
   ]
  },
  {
   "cell_type": "code",
   "execution_count": 26,
   "metadata": {},
   "outputs": [],
   "source": [
    "data_by_domgross = data_by_domgross.drop(['budget','intgross'],axis=1)\n",
    "#cleaning our DataFrame"
   ]
  },
  {
   "cell_type": "code",
   "execution_count": 27,
   "metadata": {},
   "outputs": [
    {
     "output_type": "execute_result",
     "data": {
      "text/plain": [
       "      year                                           title   domgross\n",
       "454   2009                                          Avatar  760507625\n",
       "1445  1997                                         Titanic  658672302\n",
       "634   2008                                 The Dark Knight  533345358\n",
       "1315  1999       Star Wars: Episode I - The Phantom Menace  474544677\n",
       "1759  1977                                       Star Wars  460998007\n",
       "158   2012                           The Dark Knight Rises  448139099\n",
       "980   2004                                         Shrek 2  441226247\n",
       "1707  1982                     E.T.: The Extra-Terrestrial  435110554\n",
       "79    2013                 The Hunger Games: Catching Fire  424088260\n",
       "782   2006  Pirates of the Caribbean: Dead Man&#39;s Chest  423315812"
      ],
      "text/html": "<div>\n<style scoped>\n    .dataframe tbody tr th:only-of-type {\n        vertical-align: middle;\n    }\n\n    .dataframe tbody tr th {\n        vertical-align: top;\n    }\n\n    .dataframe thead th {\n        text-align: right;\n    }\n</style>\n<table border=\"1\" class=\"dataframe\">\n  <thead>\n    <tr style=\"text-align: right;\">\n      <th></th>\n      <th>year</th>\n      <th>title</th>\n      <th>domgross</th>\n    </tr>\n  </thead>\n  <tbody>\n    <tr>\n      <th>454</th>\n      <td>2009</td>\n      <td>Avatar</td>\n      <td>760507625</td>\n    </tr>\n    <tr>\n      <th>1445</th>\n      <td>1997</td>\n      <td>Titanic</td>\n      <td>658672302</td>\n    </tr>\n    <tr>\n      <th>634</th>\n      <td>2008</td>\n      <td>The Dark Knight</td>\n      <td>533345358</td>\n    </tr>\n    <tr>\n      <th>1315</th>\n      <td>1999</td>\n      <td>Star Wars: Episode I - The Phantom Menace</td>\n      <td>474544677</td>\n    </tr>\n    <tr>\n      <th>1759</th>\n      <td>1977</td>\n      <td>Star Wars</td>\n      <td>460998007</td>\n    </tr>\n    <tr>\n      <th>158</th>\n      <td>2012</td>\n      <td>The Dark Knight Rises</td>\n      <td>448139099</td>\n    </tr>\n    <tr>\n      <th>980</th>\n      <td>2004</td>\n      <td>Shrek 2</td>\n      <td>441226247</td>\n    </tr>\n    <tr>\n      <th>1707</th>\n      <td>1982</td>\n      <td>E.T.: The Extra-Terrestrial</td>\n      <td>435110554</td>\n    </tr>\n    <tr>\n      <th>79</th>\n      <td>2013</td>\n      <td>The Hunger Games: Catching Fire</td>\n      <td>424088260</td>\n    </tr>\n    <tr>\n      <th>782</th>\n      <td>2006</td>\n      <td>Pirates of the Caribbean: Dead Man&amp;#39;s Chest</td>\n      <td>423315812</td>\n    </tr>\n  </tbody>\n</table>\n</div>"
     },
     "metadata": {},
     "execution_count": 27
    }
   ],
   "source": [
    "data_by_domgross.head(10)\n",
    "#checking our results"
   ]
  },
  {
   "source": [
    "- If you had a movie theater and could play the movies that you wanted, which movies would you play and why?\n",
    "\n",
    "With the data available the answer seems pretty straightforward. I would play the 10 highest grossing movies of all time.\n",
    "\n",
    "If we had the following data available:\n",
    "        \n",
    "        \n",
    "        - theater Location \n",
    "        \n",
    "        - Customer's Age\n",
    "\n",
    "        - Popularity ranking \n",
    "\n",
    "        - Critic's ratings\n",
    "\n",
    "1. We could create a price recommendation based on the neighboorhood median income where our theater is located.\n",
    "\n",
    "2. We could create a better recommedation based on customer segmentation by age.\n",
    "\n",
    "3. We could decide which movies to play based on both the popularity ranking of each movie and the critic's rating as well. \n"
   ],
   "cell_type": "markdown",
   "metadata": {}
  }
 ]
}